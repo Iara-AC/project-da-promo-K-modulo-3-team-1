{
 "cells": [
  {
   "cell_type": "markdown",
   "metadata": {},
   "source": [
    "# Columnas Categoricas"
   ]
  },
  {
   "cell_type": "code",
   "execution_count": null,
   "metadata": {},
   "outputs": [],
   "source": [
    "def buscar_columnas_categoricas(df):\n",
    "    \"\"\"\n",
    "    Busca y devuelve las columnas de tipo categórico en un DataFrame.\n",
    "\n",
    "    Parámetros:\n",
    "    - df (pd.DataFrame): El DataFrame en el que se buscarán columnas categóricas.\n",
    "\n",
    "    Retorna:\n",
    "    - list: Lista de nombres de columnas que son de tipo categórico.\n",
    "    \"\"\"\n",
    "    # Verifica si las columnas son del tipo 'category' o de tipo 'object' (usualmente usadas para categóricos)\n",
    "    columnas_categoricas = df.select_dtypes(include=['O']).columns.tolist()\n",
    "    return columnas_categoricas\n",
    "\n",
    "print(f\"Columnas categoricas: {sp.buscar_columnas_categoricas(df)}\")"
   ]
  },
  {
   "cell_type": "markdown",
   "metadata": {},
   "source": [
    "---"
   ]
  },
  {
   "cell_type": "markdown",
   "metadata": {},
   "source": [
    "# Comprobación de porcentaje de nulos"
   ]
  },
  {
   "cell_type": "code",
   "execution_count": null,
   "metadata": {},
   "outputs": [],
   "source": [
    "porc_nulos = (df.isnull().sum() / df.shape[0]) * 100\n",
    "\n",
    "# Vamos a decidir en base al porcentaje de nulos, si lo sustituimos nan por null, si la mediana/media.\n",
    "# Hourlyrate y yearsincurrentrole se quedan como null.\n",
    "# lo convertimos a DataFrame\n",
    "df_nulos = pd.DataFrame(porc_nulos, columns = [\"%_nulos\"])\n",
    "# filtramos el DataFrame para quedarnos solo con aquellas columnas que tengan nulos\n",
    "df_nulos[df_nulos[\"%_nulos\"] > 0]"
   ]
  },
  {
   "cell_type": "code",
   "execution_count": null,
   "metadata": {},
   "outputs": [],
   "source": []
  },
  {
   "cell_type": "code",
   "execution_count": null,
   "metadata": {},
   "outputs": [],
   "source": []
  }
 ],
 "metadata": {
  "kernelspec": {
   "display_name": "base",
   "language": "python",
   "name": "python3"
  },
  "language_info": {
   "name": "python",
   "version": "3.9.12"
  }
 },
 "nbformat": 4,
 "nbformat_minor": 2
}

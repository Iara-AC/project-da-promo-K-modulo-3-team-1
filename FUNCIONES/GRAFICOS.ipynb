{
 "cells": [
  {
   "cell_type": "code",
   "execution_count": 1,
   "metadata": {},
   "outputs": [],
   "source": [
    "# importamos las librerías que necesitamos\n",
    "\n",
    "# Tratamiento de datos\n",
    "# -----------------------------------------------------------------------\n",
    "import pandas as pd\n",
    "import numpy as np\n",
    "\n",
    "# Visualización\n",
    "# ------------------------------------------------------------------------------\n",
    "import matplotlib.pyplot as plt\n",
    "import seaborn as sns\n",
    "\n",
    "# Evaluar linealidad de las relaciones entre las variables\n",
    "# y la distribución de las variables\n",
    "# ------------------------------------------------------------------------------\n",
    "import scipy.stats as stats\n",
    "from scipy.stats import chi2_contingency, ttest_ind\n",
    "\n",
    "# Configuración\n",
    "# -----------------------------------------------------------------------\n",
    "pd.set_option('display.max_columns', None) # para poder visualizar todas las columnas de los DataFrames\n",
    "\n",
    "# Gestión de los warnings\n",
    "# -----------------------------------------------------------------------\n",
    "import warnings\n",
    "warnings.filterwarnings(\"ignore\")"
   ]
  },
  {
   "cell_type": "markdown",
   "metadata": {},
   "source": [
    "# Graficos"
   ]
  },
  {
   "cell_type": "code",
   "execution_count": 2,
   "metadata": {},
   "outputs": [
    {
     "data": {
      "text/html": [
       "<div>\n",
       "<style scoped>\n",
       "    .dataframe tbody tr th:only-of-type {\n",
       "        vertical-align: middle;\n",
       "    }\n",
       "\n",
       "    .dataframe tbody tr th {\n",
       "        vertical-align: top;\n",
       "    }\n",
       "\n",
       "    .dataframe thead th {\n",
       "        text-align: right;\n",
       "    }\n",
       "</style>\n",
       "<table border=\"1\" class=\"dataframe\">\n",
       "  <thead>\n",
       "    <tr style=\"text-align: right;\">\n",
       "      <th></th>\n",
       "      <th>age</th>\n",
       "      <th>attrition</th>\n",
       "      <th>businesstravel</th>\n",
       "      <th>dailyrate</th>\n",
       "      <th>department</th>\n",
       "      <th>distancefromhome</th>\n",
       "      <th>education</th>\n",
       "      <th>educationfield</th>\n",
       "      <th>employeecount</th>\n",
       "      <th>employeenumber</th>\n",
       "      <th>environmentsatisfaction</th>\n",
       "      <th>gender</th>\n",
       "      <th>hourlyrate</th>\n",
       "      <th>jobinvolvement</th>\n",
       "      <th>joblevel</th>\n",
       "      <th>jobrole</th>\n",
       "      <th>jobsatisfaction</th>\n",
       "      <th>maritalstatus</th>\n",
       "      <th>monthlyincome</th>\n",
       "      <th>monthlyrate</th>\n",
       "      <th>numcompaniesworked</th>\n",
       "      <th>overtime</th>\n",
       "      <th>percentsalaryhike</th>\n",
       "      <th>performancerating</th>\n",
       "      <th>relationshipsatisfaction</th>\n",
       "      <th>standardhours</th>\n",
       "      <th>stockoptionlevel</th>\n",
       "      <th>totalworkingyears</th>\n",
       "      <th>trainingtimeslastyear</th>\n",
       "      <th>worklifebalance</th>\n",
       "      <th>yearsatcompany</th>\n",
       "      <th>yearssincelastpromotion</th>\n",
       "      <th>yearswithcurrmanager</th>\n",
       "      <th>sameasmonthlyincome</th>\n",
       "      <th>datebirth</th>\n",
       "      <th>salary</th>\n",
       "      <th>roledepartament</th>\n",
       "      <th>remotework</th>\n",
       "    </tr>\n",
       "  </thead>\n",
       "  <tbody>\n",
       "    <tr>\n",
       "      <th>0</th>\n",
       "      <td>52</td>\n",
       "      <td>No</td>\n",
       "      <td>non-travel</td>\n",
       "      <td>2015.7</td>\n",
       "      <td>desconocido</td>\n",
       "      <td>6</td>\n",
       "      <td>3</td>\n",
       "      <td>desconocido</td>\n",
       "      <td>1</td>\n",
       "      <td>1</td>\n",
       "      <td>1</td>\n",
       "      <td>M</td>\n",
       "      <td>252.0</td>\n",
       "      <td>3</td>\n",
       "      <td>5</td>\n",
       "      <td>research director</td>\n",
       "      <td>3</td>\n",
       "      <td>desconocido</td>\n",
       "      <td>16280.83</td>\n",
       "      <td>42330.17</td>\n",
       "      <td>7</td>\n",
       "      <td>No</td>\n",
       "      <td>13</td>\n",
       "      <td>3.0</td>\n",
       "      <td>3</td>\n",
       "      <td>full time</td>\n",
       "      <td>0</td>\n",
       "      <td>NaN</td>\n",
       "      <td>5</td>\n",
       "      <td>3.0</td>\n",
       "      <td>20</td>\n",
       "      <td>15</td>\n",
       "      <td>15</td>\n",
       "      <td>16280.83</td>\n",
       "      <td>1972</td>\n",
       "      <td>195370.0</td>\n",
       "      <td>desconocido</td>\n",
       "      <td>True</td>\n",
       "    </tr>\n",
       "    <tr>\n",
       "      <th>1</th>\n",
       "      <td>53</td>\n",
       "      <td>No</td>\n",
       "      <td>non-travel</td>\n",
       "      <td>2063.4</td>\n",
       "      <td>desconocido</td>\n",
       "      <td>1</td>\n",
       "      <td>4</td>\n",
       "      <td>life sciences</td>\n",
       "      <td>1</td>\n",
       "      <td>2</td>\n",
       "      <td>3</td>\n",
       "      <td>M</td>\n",
       "      <td>257.9</td>\n",
       "      <td>2</td>\n",
       "      <td>5</td>\n",
       "      <td>manager</td>\n",
       "      <td>3</td>\n",
       "      <td>desconocido</td>\n",
       "      <td>NaN</td>\n",
       "      <td>43331.17</td>\n",
       "      <td>0</td>\n",
       "      <td>Desconocido</td>\n",
       "      <td>14</td>\n",
       "      <td>3.0</td>\n",
       "      <td>1</td>\n",
       "      <td>full time</td>\n",
       "      <td>1</td>\n",
       "      <td>34.0</td>\n",
       "      <td>5</td>\n",
       "      <td>3.0</td>\n",
       "      <td>33</td>\n",
       "      <td>11</td>\n",
       "      <td>9</td>\n",
       "      <td>NaN</td>\n",
       "      <td>1971</td>\n",
       "      <td>199990.0</td>\n",
       "      <td>desconocido</td>\n",
       "      <td>False</td>\n",
       "    </tr>\n",
       "    <tr>\n",
       "      <th>2</th>\n",
       "      <td>43</td>\n",
       "      <td>No</td>\n",
       "      <td>travel_rarely</td>\n",
       "      <td>1984.3</td>\n",
       "      <td>research &amp; development</td>\n",
       "      <td>4</td>\n",
       "      <td>2</td>\n",
       "      <td>technical degree</td>\n",
       "      <td>1</td>\n",
       "      <td>3</td>\n",
       "      <td>3</td>\n",
       "      <td>M</td>\n",
       "      <td>248.0</td>\n",
       "      <td>3</td>\n",
       "      <td>5</td>\n",
       "      <td>manager</td>\n",
       "      <td>4</td>\n",
       "      <td>married</td>\n",
       "      <td>NaN</td>\n",
       "      <td>41669.33</td>\n",
       "      <td>1</td>\n",
       "      <td>No</td>\n",
       "      <td>11</td>\n",
       "      <td>3.0</td>\n",
       "      <td>4</td>\n",
       "      <td>full time</td>\n",
       "      <td>0</td>\n",
       "      <td>22.0</td>\n",
       "      <td>3</td>\n",
       "      <td>NaN</td>\n",
       "      <td>22</td>\n",
       "      <td>11</td>\n",
       "      <td>15</td>\n",
       "      <td>NaN</td>\n",
       "      <td>1981</td>\n",
       "      <td>192320.0</td>\n",
       "      <td>manager  -  research &amp; development</td>\n",
       "      <td>False</td>\n",
       "    </tr>\n",
       "    <tr>\n",
       "      <th>3</th>\n",
       "      <td>48</td>\n",
       "      <td>No</td>\n",
       "      <td>travel_rarely</td>\n",
       "      <td>1771.4</td>\n",
       "      <td>desconocido</td>\n",
       "      <td>2</td>\n",
       "      <td>4</td>\n",
       "      <td>medical</td>\n",
       "      <td>1</td>\n",
       "      <td>4</td>\n",
       "      <td>1</td>\n",
       "      <td>F</td>\n",
       "      <td>221.4</td>\n",
       "      <td>3</td>\n",
       "      <td>4</td>\n",
       "      <td>research director</td>\n",
       "      <td>3</td>\n",
       "      <td>married</td>\n",
       "      <td>14307.50</td>\n",
       "      <td>37199.50</td>\n",
       "      <td>3</td>\n",
       "      <td>Desconocido</td>\n",
       "      <td>19</td>\n",
       "      <td>3.0</td>\n",
       "      <td>2</td>\n",
       "      <td>full time</td>\n",
       "      <td>2</td>\n",
       "      <td>NaN</td>\n",
       "      <td>2</td>\n",
       "      <td>NaN</td>\n",
       "      <td>20</td>\n",
       "      <td>5</td>\n",
       "      <td>6</td>\n",
       "      <td>14307.50</td>\n",
       "      <td>1976</td>\n",
       "      <td>171690.0</td>\n",
       "      <td>desconocido</td>\n",
       "      <td>False</td>\n",
       "    </tr>\n",
       "    <tr>\n",
       "      <th>4</th>\n",
       "      <td>47</td>\n",
       "      <td>No</td>\n",
       "      <td>non-travel</td>\n",
       "      <td>1582.8</td>\n",
       "      <td>desconocido</td>\n",
       "      <td>3</td>\n",
       "      <td>3</td>\n",
       "      <td>technical degree</td>\n",
       "      <td>1</td>\n",
       "      <td>5</td>\n",
       "      <td>1</td>\n",
       "      <td>F</td>\n",
       "      <td>197.8</td>\n",
       "      <td>4</td>\n",
       "      <td>4</td>\n",
       "      <td>sales executive</td>\n",
       "      <td>1</td>\n",
       "      <td>divorced</td>\n",
       "      <td>12783.92</td>\n",
       "      <td>33238.20</td>\n",
       "      <td>2</td>\n",
       "      <td>No</td>\n",
       "      <td>12</td>\n",
       "      <td>3.0</td>\n",
       "      <td>4</td>\n",
       "      <td>full time</td>\n",
       "      <td>1</td>\n",
       "      <td>NaN</td>\n",
       "      <td>5</td>\n",
       "      <td>3.0</td>\n",
       "      <td>19</td>\n",
       "      <td>2</td>\n",
       "      <td>8</td>\n",
       "      <td>12783.92</td>\n",
       "      <td>1977</td>\n",
       "      <td>NaN</td>\n",
       "      <td>desconocido</td>\n",
       "      <td>True</td>\n",
       "    </tr>\n",
       "  </tbody>\n",
       "</table>\n",
       "</div>"
      ],
      "text/plain": [
       "   age attrition businesstravel  dailyrate              department  \\\n",
       "0   52        No     non-travel     2015.7             desconocido   \n",
       "1   53        No     non-travel     2063.4             desconocido   \n",
       "2   43        No  travel_rarely     1984.3  research & development   \n",
       "3   48        No  travel_rarely     1771.4             desconocido   \n",
       "4   47        No     non-travel     1582.8             desconocido   \n",
       "\n",
       "   distancefromhome  education    educationfield  employeecount  \\\n",
       "0                 6          3       desconocido              1   \n",
       "1                 1          4     life sciences              1   \n",
       "2                 4          2  technical degree              1   \n",
       "3                 2          4           medical              1   \n",
       "4                 3          3  technical degree              1   \n",
       "\n",
       "   employeenumber  environmentsatisfaction gender  hourlyrate  jobinvolvement  \\\n",
       "0               1                        1      M       252.0               3   \n",
       "1               2                        3      M       257.9               2   \n",
       "2               3                        3      M       248.0               3   \n",
       "3               4                        1      F       221.4               3   \n",
       "4               5                        1      F       197.8               4   \n",
       "\n",
       "   joblevel            jobrole  jobsatisfaction maritalstatus  monthlyincome  \\\n",
       "0         5  research director                3   desconocido       16280.83   \n",
       "1         5            manager                3   desconocido            NaN   \n",
       "2         5            manager                4       married            NaN   \n",
       "3         4  research director                3       married       14307.50   \n",
       "4         4    sales executive                1      divorced       12783.92   \n",
       "\n",
       "   monthlyrate  numcompaniesworked     overtime  percentsalaryhike  \\\n",
       "0     42330.17                   7           No                 13   \n",
       "1     43331.17                   0  Desconocido                 14   \n",
       "2     41669.33                   1           No                 11   \n",
       "3     37199.50                   3  Desconocido                 19   \n",
       "4     33238.20                   2           No                 12   \n",
       "\n",
       "   performancerating  relationshipsatisfaction standardhours  \\\n",
       "0                3.0                         3     full time   \n",
       "1                3.0                         1     full time   \n",
       "2                3.0                         4     full time   \n",
       "3                3.0                         2     full time   \n",
       "4                3.0                         4     full time   \n",
       "\n",
       "   stockoptionlevel  totalworkingyears  trainingtimeslastyear  \\\n",
       "0                 0                NaN                      5   \n",
       "1                 1               34.0                      5   \n",
       "2                 0               22.0                      3   \n",
       "3                 2                NaN                      2   \n",
       "4                 1                NaN                      5   \n",
       "\n",
       "   worklifebalance  yearsatcompany  yearssincelastpromotion  \\\n",
       "0              3.0              20                       15   \n",
       "1              3.0              33                       11   \n",
       "2              NaN              22                       11   \n",
       "3              NaN              20                        5   \n",
       "4              3.0              19                        2   \n",
       "\n",
       "   yearswithcurrmanager  sameasmonthlyincome  datebirth    salary  \\\n",
       "0                    15             16280.83       1972  195370.0   \n",
       "1                     9                  NaN       1971  199990.0   \n",
       "2                    15                  NaN       1981  192320.0   \n",
       "3                     6             14307.50       1976  171690.0   \n",
       "4                     8             12783.92       1977       NaN   \n",
       "\n",
       "                      roledepartament  remotework  \n",
       "0                         desconocido        True  \n",
       "1                         desconocido       False  \n",
       "2  manager  -  research & development       False  \n",
       "3                         desconocido       False  \n",
       "4                         desconocido        True  "
      ]
     },
     "execution_count": 2,
     "metadata": {},
     "output_type": "execute_result"
    }
   ],
   "source": [
    "df = pd.read_csv(\"../datos/df_modificado.csv\", index_col = 0)\n",
    "\n",
    "\n",
    "df.head(5)"
   ]
  },
  {
   "cell_type": "code",
   "execution_count": 3,
   "metadata": {},
   "outputs": [
    {
     "data": {
      "text/plain": [
       "dtype('float64')"
      ]
     },
     "execution_count": 3,
     "metadata": {},
     "output_type": "execute_result"
    }
   ],
   "source": [
    "df[\"worklifebalance\"].dtype"
   ]
  },
  {
   "cell_type": "code",
   "execution_count": 4,
   "metadata": {},
   "outputs": [
    {
     "data": {
      "text/plain": [
       "age                          0.000000\n",
       "attrition                    0.000000\n",
       "businesstravel               0.000000\n",
       "dailyrate                    0.000000\n",
       "department                   0.000000\n",
       "distancefromhome             0.000000\n",
       "education                    0.000000\n",
       "educationfield               0.000000\n",
       "employeecount                0.000000\n",
       "employeenumber               0.000000\n",
       "environmentsatisfaction      0.000000\n",
       "gender                       0.000000\n",
       "hourlyrate                   0.000000\n",
       "jobinvolvement               0.000000\n",
       "joblevel                     0.000000\n",
       "jobrole                      0.000000\n",
       "jobsatisfaction              0.000000\n",
       "maritalstatus                0.000000\n",
       "monthlyincome               29.141836\n",
       "monthlyrate                  0.000000\n",
       "numcompaniesworked           0.000000\n",
       "overtime                     0.000000\n",
       "percentsalaryhike            0.000000\n",
       "performancerating           11.918951\n",
       "relationshipsatisfaction     0.000000\n",
       "standardhours                0.000000\n",
       "stockoptionlevel             0.000000\n",
       "totalworkingyears           32.717521\n",
       "trainingtimeslastyear        0.000000\n",
       "worklifebalance              6.793802\n",
       "yearsatcompany               0.000000\n",
       "yearssincelastpromotion      0.000000\n",
       "yearswithcurrmanager         0.000000\n",
       "sameasmonthlyincome         29.141836\n",
       "datebirth                    0.000000\n",
       "salary                      16.984505\n",
       "roledepartament              0.000000\n",
       "remotework                   0.000000\n",
       "dtype: float64"
      ]
     },
     "execution_count": 4,
     "metadata": {},
     "output_type": "execute_result"
    }
   ],
   "source": [
    "porc_nulos = (df.isnull().sum() / df.shape[0]) * 100\n",
    "porc_nulos"
   ]
  },
  {
   "cell_type": "code",
   "execution_count": 5,
   "metadata": {},
   "outputs": [
    {
     "data": {
      "text/html": [
       "<div>\n",
       "<style scoped>\n",
       "    .dataframe tbody tr th:only-of-type {\n",
       "        vertical-align: middle;\n",
       "    }\n",
       "\n",
       "    .dataframe tbody tr th {\n",
       "        vertical-align: top;\n",
       "    }\n",
       "\n",
       "    .dataframe thead th {\n",
       "        text-align: right;\n",
       "    }\n",
       "</style>\n",
       "<table border=\"1\" class=\"dataframe\">\n",
       "  <thead>\n",
       "    <tr style=\"text-align: right;\">\n",
       "      <th></th>\n",
       "      <th>%_nulos</th>\n",
       "    </tr>\n",
       "  </thead>\n",
       "  <tbody>\n",
       "    <tr>\n",
       "      <th>monthlyincome</th>\n",
       "      <td>29.141836</td>\n",
       "    </tr>\n",
       "    <tr>\n",
       "      <th>performancerating</th>\n",
       "      <td>11.918951</td>\n",
       "    </tr>\n",
       "    <tr>\n",
       "      <th>totalworkingyears</th>\n",
       "      <td>32.717521</td>\n",
       "    </tr>\n",
       "    <tr>\n",
       "      <th>worklifebalance</th>\n",
       "      <td>6.793802</td>\n",
       "    </tr>\n",
       "    <tr>\n",
       "      <th>sameasmonthlyincome</th>\n",
       "      <td>29.141836</td>\n",
       "    </tr>\n",
       "    <tr>\n",
       "      <th>salary</th>\n",
       "      <td>16.984505</td>\n",
       "    </tr>\n",
       "  </tbody>\n",
       "</table>\n",
       "</div>"
      ],
      "text/plain": [
       "                       %_nulos\n",
       "monthlyincome        29.141836\n",
       "performancerating    11.918951\n",
       "totalworkingyears    32.717521\n",
       "worklifebalance       6.793802\n",
       "sameasmonthlyincome  29.141836\n",
       "salary               16.984505"
      ]
     },
     "execution_count": 5,
     "metadata": {},
     "output_type": "execute_result"
    }
   ],
   "source": [
    "# lo convertimos a DataFrame\n",
    "df_nulos = pd.DataFrame(porc_nulos, columns = [\"%_nulos\"])\n",
    "# filtramos el DataFrame para quedarnos solo con aquellas columnas que tengan nulos\n",
    "df_nulos[df_nulos[\"%_nulos\"] > 0]"
   ]
  },
  {
   "cell_type": "code",
   "execution_count": 6,
   "metadata": {},
   "outputs": [
    {
     "data": {
      "text/plain": [
       "Index(['age', 'dailyrate', 'distancefromhome', 'education', 'employeecount',\n",
       "       'employeenumber', 'environmentsatisfaction', 'hourlyrate',\n",
       "       'jobinvolvement', 'joblevel', 'jobsatisfaction', 'monthlyincome',\n",
       "       'monthlyrate', 'numcompaniesworked', 'percentsalaryhike',\n",
       "       'performancerating', 'relationshipsatisfaction', 'stockoptionlevel',\n",
       "       'totalworkingyears', 'trainingtimeslastyear', 'worklifebalance',\n",
       "       'yearsatcompany', 'yearssincelastpromotion', 'yearswithcurrmanager',\n",
       "       'sameasmonthlyincome', 'datebirth', 'salary'],\n",
       "      dtype='object')"
      ]
     },
     "execution_count": 6,
     "metadata": {},
     "output_type": "execute_result"
    }
   ],
   "source": [
    "columnas = df.describe().columns\n",
    "columnas"
   ]
  },
  {
   "cell_type": "code",
   "execution_count": 7,
   "metadata": {},
   "outputs": [],
   "source": [
    "columnas2 = [\"salary\", \"percentsalaryhike\", \"worklifebalance\", \"distancefromhome\", \"dailyrate\", \"totalworkingyears\", \"yearssincelastpromotion\", \"monthlyincome\"]"
   ]
  },
  {
   "cell_type": "code",
   "execution_count": 8,
   "metadata": {},
   "outputs": [
    {
     "data": {
      "image/png": "[encoded data removed]",
      "text/plain": [
       "<Figure size 2000x1000 with 9 Axes>"
      ]
     },
     "metadata": {},
     "output_type": "display_data"
    }
   ],
   "source": [
    "fig, axes = plt.subplots(nrows = 3, ncols = 3, figsize = (20,10)) \n",
    "axes = axes.flat\n",
    "for indice, col in enumerate(columnas2):\n",
    "    sns.boxplot(x = col, data = df, ax = axes[indice])\n",
    "    \n",
    "plt.tight_layout();"
   ]
  },
  {
   "cell_type": "code",
   "execution_count": 9,
   "metadata": {},
   "outputs": [],
   "source": [
    "mediana_salary = df[\"salary\"].median()"
   ]
  },
  {
   "cell_type": "code",
   "execution_count": 10,
   "metadata": {},
   "outputs": [],
   "source": [
    "df[\"salary\"] = df[\"salary\"].fillna(mediana_salary)"
   ]
  },
  {
   "cell_type": "code",
   "execution_count": 11,
   "metadata": {},
   "outputs": [
    {
     "data": {
      "text/plain": [
       "mean    63175.984023\n",
       "50%     53914.110000\n",
       "Name: salary, dtype: float64"
      ]
     },
     "execution_count": 11,
     "metadata": {},
     "output_type": "execute_result"
    }
   ],
   "source": [
    "df[\"salary\"].describe()[[\"mean\", \"50%\"]]"
   ]
  },
  {
   "cell_type": "markdown",
   "metadata": {},
   "source": [
    "---"
   ]
  },
  {
   "cell_type": "code",
   "execution_count": 12,
   "metadata": {},
   "outputs": [],
   "source": [
    "mediana_monthlyincome = df[\"monthlyincome\"].median()"
   ]
  },
  {
   "cell_type": "code",
   "execution_count": 13,
   "metadata": {},
   "outputs": [],
   "source": [
    "df[\"monthlyincome\"] = df[\"monthlyincome\"].fillna(mediana_monthlyincome)"
   ]
  },
  {
   "cell_type": "code",
   "execution_count": 14,
   "metadata": {},
   "outputs": [
    {
     "data": {
      "text/plain": [
       "mean    5331.763159\n",
       "50%     4492.840000\n",
       "Name: monthlyincome, dtype: float64"
      ]
     },
     "execution_count": 14,
     "metadata": {},
     "output_type": "execute_result"
    }
   ],
   "source": [
    "df[\"monthlyincome\"].describe()[[\"mean\", \"50%\"]]"
   ]
  },
  {
   "cell_type": "markdown",
   "metadata": {},
   "source": [
    "---"
   ]
  },
  {
   "cell_type": "code",
   "execution_count": 15,
   "metadata": {},
   "outputs": [],
   "source": [
    "mediana_worklifebalance = df[\"worklifebalance\"].mean()"
   ]
  },
  {
   "cell_type": "code",
   "execution_count": 16,
   "metadata": {},
   "outputs": [],
   "source": [
    "df[\"worklifebalance\"] = df[\"worklifebalance\"].fillna(mediana_worklifebalance)"
   ]
  },
  {
   "cell_type": "code",
   "execution_count": 17,
   "metadata": {},
   "outputs": [
    {
     "data": {
      "text/plain": [
       "mean    2.759591\n",
       "50%     3.000000\n",
       "Name: worklifebalance, dtype: float64"
      ]
     },
     "execution_count": 17,
     "metadata": {},
     "output_type": "execute_result"
    }
   ],
   "source": [
    "df[\"worklifebalance\"].describe()[[\"mean\", \"50%\"]]"
   ]
  },
  {
   "cell_type": "markdown",
   "metadata": {},
   "source": [
    "---"
   ]
  },
  {
   "cell_type": "markdown",
   "metadata": {},
   "source": [
    "# df-Satisfecho / df-No Satisfecho"
   ]
  },
  {
   "cell_type": "code",
   "execution_count": 18,
   "metadata": {},
   "outputs": [
    {
     "data": {
      "text/html": [
       "<div>\n",
       "<style scoped>\n",
       "    .dataframe tbody tr th:only-of-type {\n",
       "        vertical-align: middle;\n",
       "    }\n",
       "\n",
       "    .dataframe tbody tr th {\n",
       "        vertical-align: top;\n",
       "    }\n",
       "\n",
       "    .dataframe thead th {\n",
       "        text-align: right;\n",
       "    }\n",
       "</style>\n",
       "<table border=\"1\" class=\"dataframe\">\n",
       "  <thead>\n",
       "    <tr style=\"text-align: right;\">\n",
       "      <th></th>\n",
       "      <th>age</th>\n",
       "      <th>attrition</th>\n",
       "      <th>businesstravel</th>\n",
       "      <th>dailyrate</th>\n",
       "      <th>department</th>\n",
       "      <th>distancefromhome</th>\n",
       "      <th>education</th>\n",
       "      <th>educationfield</th>\n",
       "      <th>employeecount</th>\n",
       "      <th>employeenumber</th>\n",
       "      <th>environmentsatisfaction</th>\n",
       "      <th>gender</th>\n",
       "      <th>hourlyrate</th>\n",
       "      <th>jobinvolvement</th>\n",
       "      <th>joblevel</th>\n",
       "      <th>jobrole</th>\n",
       "      <th>jobsatisfaction</th>\n",
       "      <th>maritalstatus</th>\n",
       "      <th>monthlyincome</th>\n",
       "      <th>monthlyrate</th>\n",
       "      <th>numcompaniesworked</th>\n",
       "      <th>overtime</th>\n",
       "      <th>percentsalaryhike</th>\n",
       "      <th>performancerating</th>\n",
       "      <th>relationshipsatisfaction</th>\n",
       "      <th>standardhours</th>\n",
       "      <th>stockoptionlevel</th>\n",
       "      <th>totalworkingyears</th>\n",
       "      <th>trainingtimeslastyear</th>\n",
       "      <th>worklifebalance</th>\n",
       "      <th>yearsatcompany</th>\n",
       "      <th>yearssincelastpromotion</th>\n",
       "      <th>yearswithcurrmanager</th>\n",
       "      <th>sameasmonthlyincome</th>\n",
       "      <th>datebirth</th>\n",
       "      <th>salary</th>\n",
       "      <th>roledepartament</th>\n",
       "      <th>remotework</th>\n",
       "    </tr>\n",
       "  </thead>\n",
       "  <tbody>\n",
       "    <tr>\n",
       "      <th>0</th>\n",
       "      <td>52</td>\n",
       "      <td>No</td>\n",
       "      <td>non-travel</td>\n",
       "      <td>2015.7</td>\n",
       "      <td>desconocido</td>\n",
       "      <td>6</td>\n",
       "      <td>3</td>\n",
       "      <td>desconocido</td>\n",
       "      <td>1</td>\n",
       "      <td>1</td>\n",
       "      <td>1</td>\n",
       "      <td>M</td>\n",
       "      <td>252.0</td>\n",
       "      <td>3</td>\n",
       "      <td>5</td>\n",
       "      <td>research director</td>\n",
       "      <td>3</td>\n",
       "      <td>desconocido</td>\n",
       "      <td>16280.83</td>\n",
       "      <td>42330.17</td>\n",
       "      <td>7</td>\n",
       "      <td>No</td>\n",
       "      <td>13</td>\n",
       "      <td>3.0</td>\n",
       "      <td>3</td>\n",
       "      <td>full time</td>\n",
       "      <td>0</td>\n",
       "      <td>NaN</td>\n",
       "      <td>5</td>\n",
       "      <td>3.0</td>\n",
       "      <td>20</td>\n",
       "      <td>15</td>\n",
       "      <td>15</td>\n",
       "      <td>16280.83</td>\n",
       "      <td>1972</td>\n",
       "      <td>195370.0</td>\n",
       "      <td>desconocido</td>\n",
       "      <td>True</td>\n",
       "    </tr>\n",
       "    <tr>\n",
       "      <th>1</th>\n",
       "      <td>53</td>\n",
       "      <td>No</td>\n",
       "      <td>non-travel</td>\n",
       "      <td>2063.4</td>\n",
       "      <td>desconocido</td>\n",
       "      <td>1</td>\n",
       "      <td>4</td>\n",
       "      <td>life sciences</td>\n",
       "      <td>1</td>\n",
       "      <td>2</td>\n",
       "      <td>3</td>\n",
       "      <td>M</td>\n",
       "      <td>257.9</td>\n",
       "      <td>2</td>\n",
       "      <td>5</td>\n",
       "      <td>manager</td>\n",
       "      <td>3</td>\n",
       "      <td>desconocido</td>\n",
       "      <td>4492.84</td>\n",
       "      <td>43331.17</td>\n",
       "      <td>0</td>\n",
       "      <td>Desconocido</td>\n",
       "      <td>14</td>\n",
       "      <td>3.0</td>\n",
       "      <td>1</td>\n",
       "      <td>full time</td>\n",
       "      <td>1</td>\n",
       "      <td>34.0</td>\n",
       "      <td>5</td>\n",
       "      <td>3.0</td>\n",
       "      <td>33</td>\n",
       "      <td>11</td>\n",
       "      <td>9</td>\n",
       "      <td>NaN</td>\n",
       "      <td>1971</td>\n",
       "      <td>199990.0</td>\n",
       "      <td>desconocido</td>\n",
       "      <td>False</td>\n",
       "    </tr>\n",
       "  </tbody>\n",
       "</table>\n",
       "</div>"
      ],
      "text/plain": [
       "   age attrition businesstravel  dailyrate   department  distancefromhome  \\\n",
       "0   52        No     non-travel     2015.7  desconocido                 6   \n",
       "1   53        No     non-travel     2063.4  desconocido                 1   \n",
       "\n",
       "   education educationfield  employeecount  employeenumber  \\\n",
       "0          3    desconocido              1               1   \n",
       "1          4  life sciences              1               2   \n",
       "\n",
       "   environmentsatisfaction gender  hourlyrate  jobinvolvement  joblevel  \\\n",
       "0                        1      M       252.0               3         5   \n",
       "1                        3      M       257.9               2         5   \n",
       "\n",
       "             jobrole  jobsatisfaction maritalstatus  monthlyincome  \\\n",
       "0  research director                3   desconocido       16280.83   \n",
       "1            manager                3   desconocido        4492.84   \n",
       "\n",
       "   monthlyrate  numcompaniesworked     overtime  percentsalaryhike  \\\n",
       "0     42330.17                   7           No                 13   \n",
       "1     43331.17                   0  Desconocido                 14   \n",
       "\n",
       "   performancerating  relationshipsatisfaction standardhours  \\\n",
       "0                3.0                         3     full time   \n",
       "1                3.0                         1     full time   \n",
       "\n",
       "   stockoptionlevel  totalworkingyears  trainingtimeslastyear  \\\n",
       "0                 0                NaN                      5   \n",
       "1                 1               34.0                      5   \n",
       "\n",
       "   worklifebalance  yearsatcompany  yearssincelastpromotion  \\\n",
       "0              3.0              20                       15   \n",
       "1              3.0              33                       11   \n",
       "\n",
       "   yearswithcurrmanager  sameasmonthlyincome  datebirth    salary  \\\n",
       "0                    15             16280.83       1972  195370.0   \n",
       "1                     9                  NaN       1971  199990.0   \n",
       "\n",
       "  roledepartament  remotework  \n",
       "0     desconocido        True  \n",
       "1     desconocido       False  "
      ]
     },
     "execution_count": 18,
     "metadata": {},
     "output_type": "execute_result"
    }
   ],
   "source": [
    "df.head(2)"
   ]
  },
  {
   "cell_type": "code",
   "execution_count": 19,
   "metadata": {},
   "outputs": [],
   "source": [
    "job_satisfecha = df[df['jobsatisfaction'].isin([3,4])]\n",
    "job_no_satisfecha = df[df['jobsatisfaction'].isin([1,2])]"
   ]
  },
  {
   "cell_type": "code",
   "execution_count": null,
   "metadata": {},
   "outputs": [],
   "source": []
  },
  {
   "cell_type": "code",
   "execution_count": 20,
   "metadata": {},
   "outputs": [
    {
     "data": {
      "text/html": [
       "<div>\n",
       "<style scoped>\n",
       "    .dataframe tbody tr th:only-of-type {\n",
       "        vertical-align: middle;\n",
       "    }\n",
       "\n",
       "    .dataframe tbody tr th {\n",
       "        vertical-align: top;\n",
       "    }\n",
       "\n",
       "    .dataframe thead th {\n",
       "        text-align: right;\n",
       "    }\n",
       "</style>\n",
       "<table border=\"1\" class=\"dataframe\">\n",
       "  <thead>\n",
       "    <tr style=\"text-align: right;\">\n",
       "      <th></th>\n",
       "      <th>age</th>\n",
       "      <th>attrition</th>\n",
       "      <th>businesstravel</th>\n",
       "      <th>dailyrate</th>\n",
       "      <th>department</th>\n",
       "      <th>distancefromhome</th>\n",
       "      <th>education</th>\n",
       "      <th>educationfield</th>\n",
       "      <th>employeecount</th>\n",
       "      <th>employeenumber</th>\n",
       "      <th>environmentsatisfaction</th>\n",
       "      <th>gender</th>\n",
       "      <th>hourlyrate</th>\n",
       "      <th>jobinvolvement</th>\n",
       "      <th>joblevel</th>\n",
       "      <th>jobrole</th>\n",
       "      <th>jobsatisfaction</th>\n",
       "      <th>maritalstatus</th>\n",
       "      <th>monthlyincome</th>\n",
       "      <th>monthlyrate</th>\n",
       "      <th>numcompaniesworked</th>\n",
       "      <th>overtime</th>\n",
       "      <th>percentsalaryhike</th>\n",
       "      <th>performancerating</th>\n",
       "      <th>relationshipsatisfaction</th>\n",
       "      <th>standardhours</th>\n",
       "      <th>stockoptionlevel</th>\n",
       "      <th>totalworkingyears</th>\n",
       "      <th>trainingtimeslastyear</th>\n",
       "      <th>worklifebalance</th>\n",
       "      <th>yearsatcompany</th>\n",
       "      <th>yearssincelastpromotion</th>\n",
       "      <th>yearswithcurrmanager</th>\n",
       "      <th>sameasmonthlyincome</th>\n",
       "      <th>datebirth</th>\n",
       "      <th>salary</th>\n",
       "      <th>roledepartament</th>\n",
       "      <th>remotework</th>\n",
       "    </tr>\n",
       "  </thead>\n",
       "  <tbody>\n",
       "    <tr>\n",
       "      <th>0</th>\n",
       "      <td>52</td>\n",
       "      <td>No</td>\n",
       "      <td>non-travel</td>\n",
       "      <td>2015.7</td>\n",
       "      <td>desconocido</td>\n",
       "      <td>6</td>\n",
       "      <td>3</td>\n",
       "      <td>desconocido</td>\n",
       "      <td>1</td>\n",
       "      <td>1</td>\n",
       "      <td>1</td>\n",
       "      <td>M</td>\n",
       "      <td>252.0</td>\n",
       "      <td>3</td>\n",
       "      <td>5</td>\n",
       "      <td>research director</td>\n",
       "      <td>3</td>\n",
       "      <td>desconocido</td>\n",
       "      <td>16280.83</td>\n",
       "      <td>42330.17</td>\n",
       "      <td>7</td>\n",
       "      <td>No</td>\n",
       "      <td>13</td>\n",
       "      <td>3.0</td>\n",
       "      <td>3</td>\n",
       "      <td>full time</td>\n",
       "      <td>0</td>\n",
       "      <td>NaN</td>\n",
       "      <td>5</td>\n",
       "      <td>3.0</td>\n",
       "      <td>20</td>\n",
       "      <td>15</td>\n",
       "      <td>15</td>\n",
       "      <td>16280.83</td>\n",
       "      <td>1972</td>\n",
       "      <td>195370.0</td>\n",
       "      <td>desconocido</td>\n",
       "      <td>True</td>\n",
       "    </tr>\n",
       "    <tr>\n",
       "      <th>1</th>\n",
       "      <td>53</td>\n",
       "      <td>No</td>\n",
       "      <td>non-travel</td>\n",
       "      <td>2063.4</td>\n",
       "      <td>desconocido</td>\n",
       "      <td>1</td>\n",
       "      <td>4</td>\n",
       "      <td>life sciences</td>\n",
       "      <td>1</td>\n",
       "      <td>2</td>\n",
       "      <td>3</td>\n",
       "      <td>M</td>\n",
       "      <td>257.9</td>\n",
       "      <td>2</td>\n",
       "      <td>5</td>\n",
       "      <td>manager</td>\n",
       "      <td>3</td>\n",
       "      <td>desconocido</td>\n",
       "      <td>4492.84</td>\n",
       "      <td>43331.17</td>\n",
       "      <td>0</td>\n",
       "      <td>Desconocido</td>\n",
       "      <td>14</td>\n",
       "      <td>3.0</td>\n",
       "      <td>1</td>\n",
       "      <td>full time</td>\n",
       "      <td>1</td>\n",
       "      <td>34.0</td>\n",
       "      <td>5</td>\n",
       "      <td>3.0</td>\n",
       "      <td>33</td>\n",
       "      <td>11</td>\n",
       "      <td>9</td>\n",
       "      <td>NaN</td>\n",
       "      <td>1971</td>\n",
       "      <td>199990.0</td>\n",
       "      <td>desconocido</td>\n",
       "      <td>False</td>\n",
       "    </tr>\n",
       "  </tbody>\n",
       "</table>\n",
       "</div>"
      ],
      "text/plain": [
       "   age attrition businesstravel  dailyrate   department  distancefromhome  \\\n",
       "0   52        No     non-travel     2015.7  desconocido                 6   \n",
       "1   53        No     non-travel     2063.4  desconocido                 1   \n",
       "\n",
       "   education educationfield  employeecount  employeenumber  \\\n",
       "0          3    desconocido              1               1   \n",
       "1          4  life sciences              1               2   \n",
       "\n",
       "   environmentsatisfaction gender  hourlyrate  jobinvolvement  joblevel  \\\n",
       "0                        1      M       252.0               3         5   \n",
       "1                        3      M       257.9               2         5   \n",
       "\n",
       "             jobrole  jobsatisfaction maritalstatus  monthlyincome  \\\n",
       "0  research director                3   desconocido       16280.83   \n",
       "1            manager                3   desconocido        4492.84   \n",
       "\n",
       "   monthlyrate  numcompaniesworked     overtime  percentsalaryhike  \\\n",
       "0     42330.17                   7           No                 13   \n",
       "1     43331.17                   0  Desconocido                 14   \n",
       "\n",
       "   performancerating  relationshipsatisfaction standardhours  \\\n",
       "0                3.0                         3     full time   \n",
       "1                3.0                         1     full time   \n",
       "\n",
       "   stockoptionlevel  totalworkingyears  trainingtimeslastyear  \\\n",
       "0                 0                NaN                      5   \n",
       "1                 1               34.0                      5   \n",
       "\n",
       "   worklifebalance  yearsatcompany  yearssincelastpromotion  \\\n",
       "0              3.0              20                       15   \n",
       "1              3.0              33                       11   \n",
       "\n",
       "   yearswithcurrmanager  sameasmonthlyincome  datebirth    salary  \\\n",
       "0                    15             16280.83       1972  195370.0   \n",
       "1                     9                  NaN       1971  199990.0   \n",
       "\n",
       "  roledepartament  remotework  \n",
       "0     desconocido        True  \n",
       "1     desconocido       False  "
      ]
     },
     "execution_count": 20,
     "metadata": {},
     "output_type": "execute_result"
    }
   ],
   "source": [
    "job_satisfecha.head(2)"
   ]
  },
  {
   "cell_type": "code",
   "execution_count": 21,
   "metadata": {},
   "outputs": [
    {
     "data": {
      "text/plain": [
       "array([3, 4, 1, 2])"
      ]
     },
     "execution_count": 21,
     "metadata": {},
     "output_type": "execute_result"
    }
   ],
   "source": [
    "df['jobsatisfaction'].unique()     #1-2 no satisfecho / 3-4 si satisfecho"
   ]
  },
  {
   "cell_type": "code",
   "execution_count": 22,
   "metadata": {},
   "outputs": [
    {
     "data": {
      "text/plain": [
       "(1035, 38)"
      ]
     },
     "execution_count": 22,
     "metadata": {},
     "output_type": "execute_result"
    }
   ],
   "source": [
    "job_satisfecha.shape"
   ]
  },
  {
   "cell_type": "code",
   "execution_count": 23,
   "metadata": {},
   "outputs": [
    {
     "data": {
      "text/plain": [
       "(643, 38)"
      ]
     },
     "execution_count": 23,
     "metadata": {},
     "output_type": "execute_result"
    }
   ],
   "source": [
    "job_no_satisfecha.shape"
   ]
  },
  {
   "cell_type": "code",
   "execution_count": 24,
   "metadata": {},
   "outputs": [
    {
     "data": {
      "text/html": [
       "<div>\n",
       "<style scoped>\n",
       "    .dataframe tbody tr th:only-of-type {\n",
       "        vertical-align: middle;\n",
       "    }\n",
       "\n",
       "    .dataframe tbody tr th {\n",
       "        vertical-align: top;\n",
       "    }\n",
       "\n",
       "    .dataframe thead th {\n",
       "        text-align: right;\n",
       "    }\n",
       "</style>\n",
       "<table border=\"1\" class=\"dataframe\">\n",
       "  <thead>\n",
       "    <tr style=\"text-align: right;\">\n",
       "      <th></th>\n",
       "      <th>age</th>\n",
       "      <th>dailyrate</th>\n",
       "      <th>distancefromhome</th>\n",
       "      <th>education</th>\n",
       "      <th>employeecount</th>\n",
       "      <th>employeenumber</th>\n",
       "      <th>environmentsatisfaction</th>\n",
       "      <th>hourlyrate</th>\n",
       "      <th>jobinvolvement</th>\n",
       "      <th>joblevel</th>\n",
       "      <th>jobsatisfaction</th>\n",
       "      <th>monthlyincome</th>\n",
       "      <th>monthlyrate</th>\n",
       "      <th>numcompaniesworked</th>\n",
       "      <th>percentsalaryhike</th>\n",
       "      <th>performancerating</th>\n",
       "      <th>relationshipsatisfaction</th>\n",
       "      <th>stockoptionlevel</th>\n",
       "      <th>totalworkingyears</th>\n",
       "      <th>trainingtimeslastyear</th>\n",
       "      <th>worklifebalance</th>\n",
       "      <th>yearsatcompany</th>\n",
       "      <th>yearssincelastpromotion</th>\n",
       "      <th>yearswithcurrmanager</th>\n",
       "      <th>sameasmonthlyincome</th>\n",
       "      <th>datebirth</th>\n",
       "      <th>salary</th>\n",
       "    </tr>\n",
       "  </thead>\n",
       "  <tbody>\n",
       "    <tr>\n",
       "      <th>count</th>\n",
       "      <td>1035.000000</td>\n",
       "      <td>1035.000000</td>\n",
       "      <td>1035.000000</td>\n",
       "      <td>1035.000000</td>\n",
       "      <td>1035.0</td>\n",
       "      <td>1035.000000</td>\n",
       "      <td>1035.000000</td>\n",
       "      <td>1035.000000</td>\n",
       "      <td>1035.000000</td>\n",
       "      <td>1035.000000</td>\n",
       "      <td>1035.000000</td>\n",
       "      <td>1035.000000</td>\n",
       "      <td>1035.000000</td>\n",
       "      <td>1035.000000</td>\n",
       "      <td>1035.000000</td>\n",
       "      <td>906.000000</td>\n",
       "      <td>1035.000000</td>\n",
       "      <td>1035.000000</td>\n",
       "      <td>695.000000</td>\n",
       "      <td>1035.000000</td>\n",
       "      <td>1035.000000</td>\n",
       "      <td>1035.000000</td>\n",
       "      <td>1035.000000</td>\n",
       "      <td>1035.000000</td>\n",
       "      <td>742.000000</td>\n",
       "      <td>1035.000000</td>\n",
       "      <td>1035.000000</td>\n",
       "    </tr>\n",
       "    <tr>\n",
       "      <th>mean</th>\n",
       "      <td>37.902415</td>\n",
       "      <td>660.982609</td>\n",
       "      <td>11.314976</td>\n",
       "      <td>2.929469</td>\n",
       "      <td>1.0</td>\n",
       "      <td>813.372947</td>\n",
       "      <td>2.704348</td>\n",
       "      <td>82.626280</td>\n",
       "      <td>2.737198</td>\n",
       "      <td>2.048309</td>\n",
       "      <td>3.519807</td>\n",
       "      <td>5299.061546</td>\n",
       "      <td>13880.559826</td>\n",
       "      <td>2.579710</td>\n",
       "      <td>15.171981</td>\n",
       "      <td>3.143488</td>\n",
       "      <td>2.683092</td>\n",
       "      <td>0.786473</td>\n",
       "      <td>11.169784</td>\n",
       "      <td>2.782609</td>\n",
       "      <td>2.747759</td>\n",
       "      <td>7.057005</td>\n",
       "      <td>2.171014</td>\n",
       "      <td>4.092754</td>\n",
       "      <td>5617.421267</td>\n",
       "      <td>1986.097585</td>\n",
       "      <td>63363.905971</td>\n",
       "    </tr>\n",
       "    <tr>\n",
       "      <th>std</th>\n",
       "      <td>9.154442</td>\n",
       "      <td>466.712204</td>\n",
       "      <td>10.656738</td>\n",
       "      <td>1.052698</td>\n",
       "      <td>0.0</td>\n",
       "      <td>467.091281</td>\n",
       "      <td>1.108927</td>\n",
       "      <td>58.330579</td>\n",
       "      <td>0.720331</td>\n",
       "      <td>1.087819</td>\n",
       "      <td>0.499849</td>\n",
       "      <td>5552.722576</td>\n",
       "      <td>9800.818290</td>\n",
       "      <td>2.447944</td>\n",
       "      <td>3.646809</td>\n",
       "      <td>0.350763</td>\n",
       "      <td>1.074612</td>\n",
       "      <td>0.841277</td>\n",
       "      <td>7.653517</td>\n",
       "      <td>1.320163</td>\n",
       "      <td>0.674380</td>\n",
       "      <td>6.056123</td>\n",
       "      <td>3.166363</td>\n",
       "      <td>3.446341</td>\n",
       "      <td>6531.909519</td>\n",
       "      <td>9.154442</td>\n",
       "      <td>42030.014775</td>\n",
       "    </tr>\n",
       "    <tr>\n",
       "      <th>min</th>\n",
       "      <td>19.000000</td>\n",
       "      <td>104.100000</td>\n",
       "      <td>1.000000</td>\n",
       "      <td>1.000000</td>\n",
       "      <td>1.0</td>\n",
       "      <td>1.000000</td>\n",
       "      <td>1.000000</td>\n",
       "      <td>13.000000</td>\n",
       "      <td>1.000000</td>\n",
       "      <td>1.000000</td>\n",
       "      <td>3.000000</td>\n",
       "      <td>1000.000000</td>\n",
       "      <td>2186.170000</td>\n",
       "      <td>0.000000</td>\n",
       "      <td>11.000000</td>\n",
       "      <td>3.000000</td>\n",
       "      <td>1.000000</td>\n",
       "      <td>0.000000</td>\n",
       "      <td>0.000000</td>\n",
       "      <td>0.000000</td>\n",
       "      <td>1.000000</td>\n",
       "      <td>0.000000</td>\n",
       "      <td>0.000000</td>\n",
       "      <td>0.000000</td>\n",
       "      <td>1000.000000</td>\n",
       "      <td>1963.000000</td>\n",
       "      <td>10090.000000</td>\n",
       "    </tr>\n",
       "    <tr>\n",
       "      <th>25%</th>\n",
       "      <td>31.000000</td>\n",
       "      <td>290.000000</td>\n",
       "      <td>2.000000</td>\n",
       "      <td>2.000000</td>\n",
       "      <td>1.0</td>\n",
       "      <td>406.500000</td>\n",
       "      <td>2.000000</td>\n",
       "      <td>36.300000</td>\n",
       "      <td>2.000000</td>\n",
       "      <td>1.000000</td>\n",
       "      <td>3.000000</td>\n",
       "      <td>3067.500000</td>\n",
       "      <td>6090.750000</td>\n",
       "      <td>1.000000</td>\n",
       "      <td>12.000000</td>\n",
       "      <td>3.000000</td>\n",
       "      <td>2.000000</td>\n",
       "      <td>0.000000</td>\n",
       "      <td>6.000000</td>\n",
       "      <td>2.000000</td>\n",
       "      <td>2.000000</td>\n",
       "      <td>3.000000</td>\n",
       "      <td>0.000000</td>\n",
       "      <td>2.000000</td>\n",
       "      <td>2342.590000</td>\n",
       "      <td>1980.000000</td>\n",
       "      <td>29540.000000</td>\n",
       "    </tr>\n",
       "    <tr>\n",
       "      <th>50%</th>\n",
       "      <td>36.000000</td>\n",
       "      <td>556.300000</td>\n",
       "      <td>8.000000</td>\n",
       "      <td>3.000000</td>\n",
       "      <td>1.0</td>\n",
       "      <td>825.000000</td>\n",
       "      <td>3.000000</td>\n",
       "      <td>69.500000</td>\n",
       "      <td>3.000000</td>\n",
       "      <td>2.000000</td>\n",
       "      <td>4.000000</td>\n",
       "      <td>4492.840000</td>\n",
       "      <td>11681.390000</td>\n",
       "      <td>1.000000</td>\n",
       "      <td>14.000000</td>\n",
       "      <td>3.000000</td>\n",
       "      <td>3.000000</td>\n",
       "      <td>1.000000</td>\n",
       "      <td>10.000000</td>\n",
       "      <td>3.000000</td>\n",
       "      <td>3.000000</td>\n",
       "      <td>5.000000</td>\n",
       "      <td>1.000000</td>\n",
       "      <td>3.000000</td>\n",
       "      <td>4492.840000</td>\n",
       "      <td>1988.000000</td>\n",
       "      <td>53914.110000</td>\n",
       "    </tr>\n",
       "    <tr>\n",
       "      <th>75%</th>\n",
       "      <td>44.000000</td>\n",
       "      <td>906.000000</td>\n",
       "      <td>18.000000</td>\n",
       "      <td>4.000000</td>\n",
       "      <td>1.0</td>\n",
       "      <td>1223.500000</td>\n",
       "      <td>4.000000</td>\n",
       "      <td>113.250000</td>\n",
       "      <td>3.000000</td>\n",
       "      <td>3.000000</td>\n",
       "      <td>4.000000</td>\n",
       "      <td>4492.840000</td>\n",
       "      <td>19026.585000</td>\n",
       "      <td>4.000000</td>\n",
       "      <td>18.000000</td>\n",
       "      <td>3.000000</td>\n",
       "      <td>4.000000</td>\n",
       "      <td>1.000000</td>\n",
       "      <td>15.000000</td>\n",
       "      <td>3.000000</td>\n",
       "      <td>3.000000</td>\n",
       "      <td>9.500000</td>\n",
       "      <td>3.000000</td>\n",
       "      <td>7.000000</td>\n",
       "      <td>7028.540000</td>\n",
       "      <td>1993.000000</td>\n",
       "      <td>63470.000000</td>\n",
       "    </tr>\n",
       "    <tr>\n",
       "      <th>max</th>\n",
       "      <td>61.000000</td>\n",
       "      <td>2063.400000</td>\n",
       "      <td>49.000000</td>\n",
       "      <td>5.000000</td>\n",
       "      <td>1.0</td>\n",
       "      <td>1614.000000</td>\n",
       "      <td>4.000000</td>\n",
       "      <td>257.900000</td>\n",
       "      <td>4.000000</td>\n",
       "      <td>5.000000</td>\n",
       "      <td>4.000000</td>\n",
       "      <td>94083.000000</td>\n",
       "      <td>43331.170000</td>\n",
       "      <td>9.000000</td>\n",
       "      <td>25.000000</td>\n",
       "      <td>4.000000</td>\n",
       "      <td>4.000000</td>\n",
       "      <td>3.000000</td>\n",
       "      <td>40.000000</td>\n",
       "      <td>6.000000</td>\n",
       "      <td>4.000000</td>\n",
       "      <td>40.000000</td>\n",
       "      <td>15.000000</td>\n",
       "      <td>17.000000</td>\n",
       "      <td>94083.000000</td>\n",
       "      <td>2005.000000</td>\n",
       "      <td>199990.000000</td>\n",
       "    </tr>\n",
       "  </tbody>\n",
       "</table>\n",
       "</div>"
      ],
      "text/plain": [
       "               age    dailyrate  distancefromhome    education  employeecount  \\\n",
       "count  1035.000000  1035.000000       1035.000000  1035.000000         1035.0   \n",
       "mean     37.902415   660.982609         11.314976     2.929469            1.0   \n",
       "std       9.154442   466.712204         10.656738     1.052698            0.0   \n",
       "min      19.000000   104.100000          1.000000     1.000000            1.0   \n",
       "25%      31.000000   290.000000          2.000000     2.000000            1.0   \n",
       "50%      36.000000   556.300000          8.000000     3.000000            1.0   \n",
       "75%      44.000000   906.000000         18.000000     4.000000            1.0   \n",
       "max      61.000000  2063.400000         49.000000     5.000000            1.0   \n",
       "\n",
       "       employeenumber  environmentsatisfaction   hourlyrate  jobinvolvement  \\\n",
       "count     1035.000000              1035.000000  1035.000000     1035.000000   \n",
       "mean       813.372947                 2.704348    82.626280        2.737198   \n",
       "std        467.091281                 1.108927    58.330579        0.720331   \n",
       "min          1.000000                 1.000000    13.000000        1.000000   \n",
       "25%        406.500000                 2.000000    36.300000        2.000000   \n",
       "50%        825.000000                 3.000000    69.500000        3.000000   \n",
       "75%       1223.500000                 4.000000   113.250000        3.000000   \n",
       "max       1614.000000                 4.000000   257.900000        4.000000   \n",
       "\n",
       "          joblevel  jobsatisfaction  monthlyincome   monthlyrate  \\\n",
       "count  1035.000000      1035.000000    1035.000000   1035.000000   \n",
       "mean      2.048309         3.519807    5299.061546  13880.559826   \n",
       "std       1.087819         0.499849    5552.722576   9800.818290   \n",
       "min       1.000000         3.000000    1000.000000   2186.170000   \n",
       "25%       1.000000         3.000000    3067.500000   6090.750000   \n",
       "50%       2.000000         4.000000    4492.840000  11681.390000   \n",
       "75%       3.000000         4.000000    4492.840000  19026.585000   \n",
       "max       5.000000         4.000000   94083.000000  43331.170000   \n",
       "\n",
       "       numcompaniesworked  percentsalaryhike  performancerating  \\\n",
       "count         1035.000000        1035.000000         906.000000   \n",
       "mean             2.579710          15.171981           3.143488   \n",
       "std              2.447944           3.646809           0.350763   \n",
       "min              0.000000          11.000000           3.000000   \n",
       "25%              1.000000          12.000000           3.000000   \n",
       "50%              1.000000          14.000000           3.000000   \n",
       "75%              4.000000          18.000000           3.000000   \n",
       "max              9.000000          25.000000           4.000000   \n",
       "\n",
       "       relationshipsatisfaction  stockoptionlevel  totalworkingyears  \\\n",
       "count               1035.000000       1035.000000         695.000000   \n",
       "mean                   2.683092          0.786473          11.169784   \n",
       "std                    1.074612          0.841277           7.653517   \n",
       "min                    1.000000          0.000000           0.000000   \n",
       "25%                    2.000000          0.000000           6.000000   \n",
       "50%                    3.000000          1.000000          10.000000   \n",
       "75%                    4.000000          1.000000          15.000000   \n",
       "max                    4.000000          3.000000          40.000000   \n",
       "\n",
       "       trainingtimeslastyear  worklifebalance  yearsatcompany  \\\n",
       "count            1035.000000      1035.000000     1035.000000   \n",
       "mean                2.782609         2.747759        7.057005   \n",
       "std                 1.320163         0.674380        6.056123   \n",
       "min                 0.000000         1.000000        0.000000   \n",
       "25%                 2.000000         2.000000        3.000000   \n",
       "50%                 3.000000         3.000000        5.000000   \n",
       "75%                 3.000000         3.000000        9.500000   \n",
       "max                 6.000000         4.000000       40.000000   \n",
       "\n",
       "       yearssincelastpromotion  yearswithcurrmanager  sameasmonthlyincome  \\\n",
       "count              1035.000000           1035.000000           742.000000   \n",
       "mean                  2.171014              4.092754          5617.421267   \n",
       "std                   3.166363              3.446341          6531.909519   \n",
       "min                   0.000000              0.000000          1000.000000   \n",
       "25%                   0.000000              2.000000          2342.590000   \n",
       "50%                   1.000000              3.000000          4492.840000   \n",
       "75%                   3.000000              7.000000          7028.540000   \n",
       "max                  15.000000             17.000000         94083.000000   \n",
       "\n",
       "         datebirth         salary  \n",
       "count  1035.000000    1035.000000  \n",
       "mean   1986.097585   63363.905971  \n",
       "std       9.154442   42030.014775  \n",
       "min    1963.000000   10090.000000  \n",
       "25%    1980.000000   29540.000000  \n",
       "50%    1988.000000   53914.110000  \n",
       "75%    1993.000000   63470.000000  \n",
       "max    2005.000000  199990.000000  "
      ]
     },
     "execution_count": 24,
     "metadata": {},
     "output_type": "execute_result"
    }
   ],
   "source": [
    "job_satisfecha.describe()"
   ]
  },
  {
   "cell_type": "markdown",
   "metadata": {},
   "source": [
    "Hipotesis 1, la gente que  esta  satisfecha cobra mas que la gente insatisfecha.\n",
    "Para contrastar esta hipotesis hemos hecho la media a ambas poblaciones y hemos descubierto que la gente no-satisfecha cobra más por lo que nuestra hipotesis es nula.\n",
    "De esto podemos deducir que el monthly income a prioory no es tan determinante enla satisfacción."
   ]
  },
  {
   "cell_type": "code",
   "execution_count": 25,
   "metadata": {},
   "outputs": [
    {
     "data": {
      "text/plain": [
       "5299.061545893719"
      ]
     },
     "execution_count": 25,
     "metadata": {},
     "output_type": "execute_result"
    }
   ],
   "source": [
    "job_satisfecha[\"monthlyincome\"].mean()"
   ]
  },
  {
   "cell_type": "code",
   "execution_count": 26,
   "metadata": {},
   "outputs": [
    {
     "data": {
      "text/plain": [
       "5384.401057542768"
      ]
     },
     "execution_count": 26,
     "metadata": {},
     "output_type": "execute_result"
    }
   ],
   "source": [
    "job_no_satisfecha[\"monthlyincome\"].mean()"
   ]
  },
  {
   "cell_type": "markdown",
   "metadata": {},
   "source": [
    "Hipótesis 2. La gente satisfecha tiene mas incremento salarial percentual anual que la insatisfecha. Para ello hemos hecho la media de ambas. La hipótesis es nula. Esto vuelve a confirmar que la satisfacción no tiene una fuerte relación con el salario."
   ]
  },
  {
   "cell_type": "code",
   "execution_count": 27,
   "metadata": {},
   "outputs": [
    {
     "data": {
      "text/plain": [
       "15.171980676328502"
      ]
     },
     "execution_count": 27,
     "metadata": {},
     "output_type": "execute_result"
    }
   ],
   "source": [
    "job_satisfecha[\"percentsalaryhike\"].mean()"
   ]
  },
  {
   "cell_type": "code",
   "execution_count": 28,
   "metadata": {},
   "outputs": [
    {
     "data": {
      "text/plain": [
       "15.12597200622084"
      ]
     },
     "execution_count": 28,
     "metadata": {},
     "output_type": "execute_result"
    }
   ],
   "source": [
    "job_no_satisfecha[\"percentsalaryhike\"].mean()"
   ]
  },
  {
   "cell_type": "markdown",
   "metadata": {},
   "source": [
    "Hipotesis 3: La opción de compra de acciones es relevante para la satisfacción del empleado. Hemos descubierto haciendo las medias que no es así."
   ]
  },
  {
   "cell_type": "code",
   "execution_count": 29,
   "metadata": {},
   "outputs": [
    {
     "data": {
      "text/plain": [
       "0.7864734299516908"
      ]
     },
     "execution_count": 29,
     "metadata": {},
     "output_type": "execute_result"
    }
   ],
   "source": [
    "job_satisfecha[\"stockoptionlevel\"].mean()"
   ]
  },
  {
   "cell_type": "code",
   "execution_count": 30,
   "metadata": {},
   "outputs": [
    {
     "data": {
      "text/plain": [
       "0.7900466562986003"
      ]
     },
     "execution_count": 30,
     "metadata": {},
     "output_type": "execute_result"
    }
   ],
   "source": [
    "job_no_satisfecha[\"stockoptionlevel\"].mean()"
   ]
  },
  {
   "cell_type": "markdown",
   "metadata": {},
   "source": [
    "Reflexión motivos económicos.\n",
    "Hemos contrastado tres hipótesis respecto a datos económicos de los empleados respecto a la satisfacción.\n",
    "Las tres variables contrastadas han sido ingresos mensuales, incremento salarial anual y opción de compra de acciones. En las tres ha sucedido que hemos contrastado que no tiene relación con la satisfacción laboral, por lo que descartamos avanzar en esta linea de investigación."
   ]
  },
  {
   "cell_type": "code",
   "execution_count": 31,
   "metadata": {},
   "outputs": [
    {
     "data": {
      "text/plain": [
       "11.314975845410627"
      ]
     },
     "execution_count": 31,
     "metadata": {},
     "output_type": "execute_result"
    }
   ],
   "source": [
    "job_satisfecha[\"distancefromhome\"].mean()"
   ]
  },
  {
   "cell_type": "code",
   "execution_count": 32,
   "metadata": {},
   "outputs": [
    {
     "data": {
      "text/plain": [
       "10.975116640746501"
      ]
     },
     "execution_count": 32,
     "metadata": {},
     "output_type": "execute_result"
    }
   ],
   "source": [
    "job_no_satisfecha[\"distancefromhome\"].mean()"
   ]
  },
  {
   "cell_type": "markdown",
   "metadata": {},
   "source": [
    "------"
   ]
  },
  {
   "cell_type": "markdown",
   "metadata": {},
   "source": [
    "Test hipotesis(prueba hipotesis)\n",
    "H0 --> No hay diferencia en satisfaccion del empleado por los viajes que hace.\n",
    "H1 --> La gente satisfecha viaja mas."
   ]
  },
  {
   "cell_type": "code",
   "execution_count": 33,
   "metadata": {},
   "outputs": [
    {
     "data": {
      "text/plain": [
       "businesstravel\n",
       "non-travel           541\n",
       "travel_rarely        383\n",
       "travel_frequently    111\n",
       "Name: count, dtype: int64"
      ]
     },
     "execution_count": 33,
     "metadata": {},
     "output_type": "execute_result"
    }
   ],
   "source": [
    "job_satisfecha[\"businesstravel\"].value_counts()"
   ]
  },
  {
   "cell_type": "code",
   "execution_count": 34,
   "metadata": {},
   "outputs": [
    {
     "data": {
      "text/plain": [
       "businesstravel\n",
       "non-travel           353\n",
       "travel_rarely        233\n",
       "travel_frequently     57\n",
       "Name: count, dtype: int64"
      ]
     },
     "execution_count": 34,
     "metadata": {},
     "output_type": "execute_result"
    }
   ],
   "source": [
    "job_no_satisfecha[\"businesstravel\"].value_counts()"
   ]
  },
  {
   "cell_type": "markdown",
   "metadata": {},
   "source": [
    "-----"
   ]
  },
  {
   "cell_type": "code",
   "execution_count": 35,
   "metadata": {},
   "outputs": [],
   "source": [
    "job_satisfecha = df[df['jobsatisfaction'].isin([3,4])][\"businesstravel\"]\n",
    "job_no_satisfecha = df[df['jobsatisfaction'].isin([1,2])][\"businesstravel\"]\n",
    "\n"
   ]
  },
  {
   "cell_type": "code",
   "execution_count": 36,
   "metadata": {},
   "outputs": [
    {
     "name": "stdout",
     "output_type": "stream",
     "text": [
      "businesstravel   non-travel  travel_frequently  travel_rarely\n",
      "jobsatisfaction                                              \n",
      "1                       175                 33            118\n",
      "2                       178                 24            115\n",
      "3                       261                 48            188\n",
      "4                       280                 63            195\n"
     ]
    }
   ],
   "source": [
    "cross_table_satisfaccion =  pd.crosstab(df['jobsatisfaction'], df[\"businesstravel\"])\n",
    "print(cross_table_satisfaccion)"
   ]
  },
  {
   "cell_type": "code",
   "execution_count": 37,
   "metadata": {},
   "outputs": [
    {
     "name": "stdout",
     "output_type": "stream",
     "text": [
      "Chi2: 4.451456758807698, p-valor: 0.6158232225183022, Grados de libertad: 6\n"
     ]
    }
   ],
   "source": [
    "# Test de Chi-cuadrado \n",
    "chi2, p, dof, expected = chi2_contingency(cross_table_satisfaccion)\n",
    "print(f\"Chi2: {chi2}, p-valor: {p}, Grados de libertad: {dof}\")"
   ]
  },
  {
   "cell_type": "code",
   "execution_count": 38,
   "metadata": {},
   "outputs": [
    {
     "name": "stdout",
     "output_type": "stream",
     "text": [
      "No podemos rechazar la hipótesis nula: No hay relación significativa.\n"
     ]
    }
   ],
   "source": [
    "# Interpretar resultado\n",
    "if p < 0.05:\n",
    "     print(\"Rechazamos la hipótesis nula: Hay una relación significativa entre género y atrición.\") \n",
    "else:\n",
    "     print(\"No podemos rechazar la hipótesis nula: No hay relación significativa.\")"
   ]
  },
  {
   "cell_type": "markdown",
   "metadata": {},
   "source": [
    "\n",
    "En este test de hipótesis no podemos rechazar el H0. por esto la satisfacción laboral es independiente de los viajes que hace el empleado.\n",
    "Conclusión : Añadir una columna para hacer cuestionario a empleados para preguntar si les gusta o no viajar.(en una escala del 1-4)"
   ]
  },
  {
   "cell_type": "code",
   "execution_count": 39,
   "metadata": {},
   "outputs": [
    {
     "name": "stdout",
     "output_type": "stream",
     "text": [
      "remotework       False  True \n",
      "jobsatisfaction              \n",
      "1                  143    183\n",
      "2                  123    194\n",
      "3                  210    287\n",
      "4                  217    321\n"
     ]
    }
   ],
   "source": [
    "cross_table_satisfaccion1 =  pd.crosstab(df['jobsatisfaction'], df[\"remotework\"])\n",
    "print(cross_table_satisfaccion1)"
   ]
  },
  {
   "cell_type": "markdown",
   "metadata": {},
   "source": [
    "H₀: \"La satisfacción laboral  es independiente del teletrabajo.\"\n",
    "H₁: \"La satisfacción laboral depende del teletrabajo.\""
   ]
  },
  {
   "cell_type": "code",
   "execution_count": 40,
   "metadata": {},
   "outputs": [
    {
     "name": "stdout",
     "output_type": "stream",
     "text": [
      "Chi2: 2.0944000988883995, p-valor: 0.5530464919937621, Grados de libertad: 3\n"
     ]
    }
   ],
   "source": [
    "# Test de Chi-cuadrado \n",
    "chi2, p, dof, expected = chi2_contingency(cross_table_satisfaccion1)\n",
    "print(f\"Chi2: {chi2}, p-valor: {p}, Grados de libertad: {dof}\")"
   ]
  },
  {
   "cell_type": "code",
   "execution_count": 41,
   "metadata": {},
   "outputs": [
    {
     "name": "stdout",
     "output_type": "stream",
     "text": [
      "No podemos rechazar la hipótesis nula: No hay relación significativa.\n"
     ]
    }
   ],
   "source": [
    "# Interpretar resultado\n",
    "if p < 0.05:\n",
    "     print(\"Rechazamos la hipótesis nula: Hay una relación significativa.\") \n",
    "else:\n",
    "     print(\"No podemos rechazar la hipótesis nula: No hay relación significativa.\")"
   ]
  },
  {
   "cell_type": "markdown",
   "metadata": {},
   "source": [
    "Reflexión categóricas movilidad"
   ]
  },
  {
   "cell_type": "markdown",
   "metadata": {},
   "source": [
    "-----"
   ]
  },
  {
   "cell_type": "code",
   "execution_count": 42,
   "metadata": {},
   "outputs": [
    {
     "name": "stdout",
     "output_type": "stream",
     "text": [
      "educationfield   desconocido  human resources  life sciences  marketing  \\\n",
      "jobsatisfaction                                                           \n",
      "1                        131                5             78         23   \n",
      "2                        152                4             62         23   \n",
      "3                        242                1            100         20   \n",
      "4                        249                2            127         40   \n",
      "\n",
      "educationfield   medical  other  technical degree  \n",
      "jobsatisfaction                                    \n",
      "1                     65      8                16  \n",
      "2                     48     15                13  \n",
      "3                     95     19                20  \n",
      "4                     78     21                21  \n"
     ]
    }
   ],
   "source": [
    "cross_table_satisfaccion2 =  pd.crosstab(df['jobsatisfaction'], df[\"educationfield\"])\n",
    "print(cross_table_satisfaccion2)"
   ]
  },
  {
   "cell_type": "code",
   "execution_count": 43,
   "metadata": {},
   "outputs": [
    {
     "name": "stdout",
     "output_type": "stream",
     "text": [
      "Chi2: 27.73469713484832, p-valor: 0.06620897523115948, Grados de libertad: 18\n"
     ]
    }
   ],
   "source": [
    "# Test de Chi-cuadrado \n",
    "chi2, p, dof, expected = chi2_contingency(cross_table_satisfaccion2)\n",
    "print(f\"Chi2: {chi2}, p-valor: {p}, Grados de libertad: {dof}\")"
   ]
  },
  {
   "cell_type": "code",
   "execution_count": 44,
   "metadata": {},
   "outputs": [
    {
     "name": "stdout",
     "output_type": "stream",
     "text": [
      "No podemos rechazar la hipótesis nula: No hay relación significativa.\n"
     ]
    }
   ],
   "source": [
    "# Interpretar resultado\n",
    "if p < 0.05:\n",
    "     print(\"Rechazamos la hipótesis nula: Hay una relación significativa.\") \n",
    "else:\n",
    "     print(\"No podemos rechazar la hipótesis nula: No hay relación significativa.\")"
   ]
  },
  {
   "cell_type": "code",
   "execution_count": 47,
   "metadata": {},
   "outputs": [
    {
     "data": {
      "text/plain": [
       "array(['desconocido', 'life sciences', 'technical degree', 'medical',\n",
       "       'other', 'marketing', 'human resources'], dtype=object)"
      ]
     },
     "execution_count": 47,
     "metadata": {},
     "output_type": "execute_result"
    }
   ],
   "source": [
    "df[\"educationfield\"].unique()"
   ]
  },
  {
   "cell_type": "code",
   "execution_count": 53,
   "metadata": {},
   "outputs": [
    {
     "data": {
      "text/plain": [
       "([<matplotlib.axis.YTick at 0x10c2e9fd0>,\n",
       "  <matplotlib.axis.YTick at 0x10c234390>,\n",
       "  <matplotlib.axis.YTick at 0x10c23cb50>,\n",
       "  <matplotlib.axis.YTick at 0x10c3a6490>,\n",
       "  <matplotlib.axis.YTick at 0x10c3b4650>,\n",
       "  <matplotlib.axis.YTick at 0x10c3b6750>,\n",
       "  <matplotlib.axis.YTick at 0x10c3b5090>],\n",
       " [Text(0, 0, 'desconocido'),\n",
       "  Text(0, 1, 'life sciences'),\n",
       "  Text(0, 2, 'technical degree'),\n",
       "  Text(0, 3, 'medical'),\n",
       "  Text(0, 4, 'other'),\n",
       "  Text(0, 5, 'marketing'),\n",
       "  Text(0, 6, 'human resources')])"
      ]
     },
     "execution_count": 53,
     "metadata": {},
     "output_type": "execute_result"
    },
    {
     "data": {
      "image/png": "[encoded data removed]",
      "text/plain": [
       "<Figure size 800x600 with 1 Axes>"
      ]
     },
     "metadata": {},
     "output_type": "display_data"
    }
   ],
   "source": [
    "# Crear el boxplot\n",
    "plt.figure(figsize=(8, 6)) \n",
    "sns.boxplot(data = df, width=0.5, y = \"educationfield\", x = \"jobsatisfaction\")\n",
    " # Ajustar la posición de los ticks en el eje X\n",
    "plt.yticks(ticks=[0, 1, 2, 3, 4, 5, 6, ], labels=['desconocido', 'life sciences', 'technical degree', 'medical',\n",
    "       'other', 'marketing', 'human resources'], fontsize=6)"
   ]
  },
  {
   "cell_type": "code",
   "execution_count": null,
   "metadata": {},
   "outputs": [],
   "source": []
  },
  {
   "cell_type": "code",
   "execution_count": null,
   "metadata": {},
   "outputs": [],
   "source": []
  },
  {
   "cell_type": "code",
   "execution_count": null,
   "metadata": {},
   "outputs": [],
   "source": []
  },
  {
   "cell_type": "code",
   "execution_count": 46,
   "metadata": {},
   "outputs": [],
   "source": [
    "def intervalo_confianza(dataframe, columna, nivel_confianza = float):\n",
    "    \"\"\"\n",
    "    Calcula el intervalo de confianza para una columna específica en un DataFrame.\n",
    "    Parámetros:\n",
    "    -----------\n",
    "    dataframe : DataFrame\n",
    "        El DataFrame que contiene los datos de la muestra.\n",
    "    columna : str\n",
    "        El nombre de la columna para la cual deseas calcular el intervalo de confianza.\n",
    "    nivel_confianza : float, opcional\n",
    "        El nivel de confianza deseado para el intervalo de confianza (valor predeterminado es 0.95).\n",
    "    Salida:\n",
    "    -------\n",
    "    None\n",
    "        La función imprime en la consola la siguiente información:\n",
    "        - La media muestral de la columna especificada.\n",
    "        - El error estándar de la muestra.\n",
    "        - El nivel de confianza utilizado.\n",
    "        - El valor crítico calculado a partir de la distribución t de Student.\n",
    "        - El intervalo de confianza calculado, que incluye el límite inferior y el límite superior.\n",
    "    \"\"\"\n",
    "    # Calcular la media y el error estándar de la muestra\n",
    "    media = dataframe[columna].mean()\n",
    "    error = stats.sem(dataframe[columna])\n",
    "    # calculamos los grados de libertad de la muestra. Recordad que debemos restar el total de datos que tenemos -1.\n",
    "    grados_libertad = len(df[columna]) - 1\n",
    "    # Calcular el valor crítico (utilizando la distribución t de Student)\n",
    "    valor_critico = stats.t.ppf((1 + nivel_confianza) / 2, df=grados_libertad)\n",
    "    # Calcular el intervalo de confianza\n",
    "    limite_inferior = media - valor_critico * error\n",
    "    limite_superior = media + valor_critico * error\n",
    "    print(f\"Intervalo de Confianza para {columna}:\")\n",
    "    print(f\"Media Muestral: {np.round(media, 2)}\")\n",
    "    print(f\"Error Estándar: {np.round(error, 2)}\")\n",
    "    print(f\"Nivel de Confianza: {nivel_confianza}\")\n",
    "    print(f\"Valor Crítico: {np.round(valor_critico, 2)}\")\n",
    "    print(f\"Intervalo de Confianza: ({np.round(limite_inferior, 2)}, {np.round(limite_superior, 2)})\")\n"
   ]
  }
 ],
 "metadata": {
  "kernelspec": {
   "display_name": "base",
   "language": "python",
   "name": "python3"
  },
  "language_info": {
   "codemirror_mode": {
    "name": "ipython",
    "version": 3
   },
   "file_extension": ".py",
   "mimetype": "text/x-python",
   "name": "python",
   "nbconvert_exporter": "python",
   "pygments_lexer": "ipython3",
   "version": "3.11.7"
  }
 },
 "nbformat": 4,
 "nbformat_minor": 2
}

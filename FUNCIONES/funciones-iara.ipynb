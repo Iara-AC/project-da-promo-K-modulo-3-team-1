{
 "cells": [
  {
   "cell_type": "code",
   "execution_count": 1,
   "metadata": {},
   "outputs": [],
   "source": [
    "import pandas as pd\n",
    "import numpy as np\n",
    "pd.set_option('display.max_columns', None)"
   ]
  },
  {
   "cell_type": "code",
   "execution_count": 4,
   "metadata": {},
   "outputs": [
    {
     "name": "stdout",
     "output_type": "stream",
     "text": [
      "5\n",
      "3.14\n"
     ]
    }
   ],
   "source": [
    "# Crear función de conversión de números a numeros absolutos\n",
    "\n",
    "def convertir_a_absoluto(numero):\n",
    "    \"\"\"\n",
    "    Convierte un número a su valor absoluto.\n",
    "\n",
    "    Parámetros:\n",
    "    numero (int | float): Número a convertir.\n",
    "\n",
    "    Retorno:\n",
    "    int | float: Valor absoluto del número.\n",
    "    \"\"\"\n",
    "    return abs(numero)\n",
    "\n",
    "# Ejemplo de uso\n",
    "print(convertir_a_absoluto(-5))      \n",
    "print(convertir_a_absoluto(-3.14)) "
   ]
  },
  {
   "cell_type": "code",
   "execution_count": 2,
   "metadata": {},
   "outputs": [
    {
     "name": "stdout",
     "output_type": "stream",
     "text": [
      "123.456\n"
     ]
    }
   ],
   "source": [
    "# Crear función para transformar float a string\n",
    "\n",
    "def float_a_string(dato):\n",
    "    \"\"\"\n",
    "    Convierte un número float a string.\n",
    "    \n",
    "    Parámetros:\n",
    "    dato (float): Número a convertir.\n",
    "    \n",
    "    Retorno:\n",
    "    str: Representación del número en formato string.\n",
    "    \"\"\"\n",
    "    return str(dato)\n",
    "\n",
    "# Ejemplo de uso\n",
    "resultado = float_a_string(123.456)\n",
    "print(resultado)"
   ]
  },
  {
   "cell_type": "code",
   "execution_count": 3,
   "metadata": {},
   "outputs": [
    {
     "data": {
      "text/plain": [
       "str"
      ]
     },
     "execution_count": 3,
     "metadata": {},
     "output_type": "execute_result"
    }
   ],
   "source": [
    "type(resultado)"
   ]
  }
 ],
 "metadata": {
  "kernelspec": {
   "display_name": "base",
   "language": "python",
   "name": "python3"
  },
  "language_info": {
   "codemirror_mode": {
    "name": "ipython",
    "version": 3
   },
   "file_extension": ".py",
   "mimetype": "text/x-python",
   "name": "python",
   "nbconvert_exporter": "python",
   "pygments_lexer": "ipython3",
   "version": "3.12.4"
  }
 },
 "nbformat": 4,
 "nbformat_minor": 2
}

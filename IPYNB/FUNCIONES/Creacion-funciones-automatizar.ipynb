{
 "cells": [
  {
   "cell_type": "markdown",
   "metadata": {},
   "source": [
    "## FUNCIONES :\n",
    "\n",
    "- Función de string a int; --- faltan cosas \n",
    "columna age / col. monthly_income /col. monthly_rate / col. yearsincurrentrole / col. salary\n",
    "\n",
    "- Función ejecute un ROUND; --- faltan cosas \n",
    "col. daily_rate / col. performancerate\n",
    "\n",
    "\n",
    "\n",
    "\n",
    "- Función cambio tipográfico (de un tipo de string a otro tipo de string);\n",
    "\n",
    "col. gender / col. matrialstatus / col.roledepartament\n",
    "\n",
    "- Función redondeo a dos decimales;\n",
    "\n",
    "col. hourlyrate y dailyrate (relación entre las dos)\n",
    "\n",
    "- Función combiar coma por punto;\n",
    "\n",
    "col. totalworkingyears / col. workinglifebalance / col. yearsincuurrentrole / col. sameasmonthlyincome / col. salary\n",
    "\n",
    "- Función que iguale, 1-Yes, 0-No;   (True/False NO  por que es booleano)\n",
    "\n",
    "col. remotework\n",
    "\n",
    "- Función borrar duplicados.\n",
    "\n",
    "## Funciones ya creadas:\n",
    "\n",
    "- Función col. categórica (devuelve col.categorica)\n",
    "- Función transformación NAN\n",
    "- Función de float a string;\n",
    "- Función conversión nº absoluto;\n",
    "col. distanceformhome/col. educationfield\n",
    "- Función que quede con el 1 digito de un numero de dos digitos; \n",
    "\n",
    "col. enviromentsatisfaction\n",
    "\n"
   ]
  }
 ],
 "metadata": {
  "language_info": {
   "name": "python"
  }
 },
 "nbformat": 4,
 "nbformat_minor": 2
}

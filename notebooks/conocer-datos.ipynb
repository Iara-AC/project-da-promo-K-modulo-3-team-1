{
 "cells": [
  {
   "cell_type": "code",
   "execution_count": null,
   "metadata": {},
   "outputs": [],
   "source": [
    "import numpy as np\n",
    "import pandas as pd\n",
    "pd.set_option('display.max_columns', None)  # Esto es para ver todas las columnas de un dataframe\n",
    "# pd.set_option('display.max_rows', None)     # Esto es para ver todas las filas de un dataframe"
   ]
  },
  {
   "cell_type": "code",
   "execution_count": 22,
   "metadata": {},
   "outputs": [
    {
     "data": {
      "text/html": [
       "<div>\n",
       "<style scoped>\n",
       "    .dataframe tbody tr th:only-of-type {\n",
       "        vertical-align: middle;\n",
       "    }\n",
       "\n",
       "    .dataframe tbody tr th {\n",
       "        vertical-align: top;\n",
       "    }\n",
       "\n",
       "    .dataframe thead th {\n",
       "        text-align: right;\n",
       "    }\n",
       "</style>\n",
       "<table border=\"1\" class=\"dataframe\">\n",
       "  <thead>\n",
       "    <tr style=\"text-align: right;\">\n",
       "      <th></th>\n",
       "      <th>age</th>\n",
       "      <th>attrition</th>\n",
       "      <th>businesstravel</th>\n",
       "      <th>dailyrate</th>\n",
       "      <th>department</th>\n",
       "      <th>distancefromhome</th>\n",
       "      <th>education</th>\n",
       "      <th>educationfield</th>\n",
       "      <th>employeecount</th>\n",
       "      <th>employeenumber</th>\n",
       "      <th>environmentsatisfaction</th>\n",
       "      <th>gender</th>\n",
       "      <th>hourlyrate</th>\n",
       "      <th>jobinvolvement</th>\n",
       "      <th>joblevel</th>\n",
       "      <th>jobrole</th>\n",
       "      <th>jobsatisfaction</th>\n",
       "      <th>maritalstatus</th>\n",
       "      <th>monthlyincome</th>\n",
       "      <th>monthlyrate</th>\n",
       "      <th>numcompaniesworked</th>\n",
       "      <th>over18</th>\n",
       "      <th>overtime</th>\n",
       "      <th>percentsalaryhike</th>\n",
       "      <th>performancerating</th>\n",
       "      <th>relationshipsatisfaction</th>\n",
       "      <th>standardhours</th>\n",
       "      <th>stockoptionlevel</th>\n",
       "      <th>totalworkingyears</th>\n",
       "      <th>trainingtimeslastyear</th>\n",
       "      <th>worklifebalance</th>\n",
       "      <th>yearsatcompany</th>\n",
       "      <th>yearsincurrentrole</th>\n",
       "      <th>yearssincelastpromotion</th>\n",
       "      <th>yearswithcurrmanager</th>\n",
       "      <th>sameasmonthlyincome</th>\n",
       "      <th>datebirth</th>\n",
       "      <th>salary</th>\n",
       "      <th>roledepartament</th>\n",
       "      <th>numberchildren</th>\n",
       "      <th>remotework</th>\n",
       "    </tr>\n",
       "  </thead>\n",
       "  <tbody>\n",
       "    <tr>\n",
       "      <th>0</th>\n",
       "      <td>51</td>\n",
       "      <td>No</td>\n",
       "      <td>NaN</td>\n",
       "      <td>2015.722222</td>\n",
       "      <td>NaN</td>\n",
       "      <td>6</td>\n",
       "      <td>3</td>\n",
       "      <td>NaN</td>\n",
       "      <td>1</td>\n",
       "      <td>1</td>\n",
       "      <td>1</td>\n",
       "      <td>0</td>\n",
       "      <td>NaN</td>\n",
       "      <td>3</td>\n",
       "      <td>5</td>\n",
       "      <td>resEArch DIREcToR</td>\n",
       "      <td>3</td>\n",
       "      <td>NaN</td>\n",
       "      <td>16280,83$</td>\n",
       "      <td>42330,17$</td>\n",
       "      <td>7</td>\n",
       "      <td>Y</td>\n",
       "      <td>No</td>\n",
       "      <td>13</td>\n",
       "      <td>3,0</td>\n",
       "      <td>3</td>\n",
       "      <td>Full Time</td>\n",
       "      <td>0</td>\n",
       "      <td>NaN</td>\n",
       "      <td>5</td>\n",
       "      <td>3,0</td>\n",
       "      <td>20</td>\n",
       "      <td>NaN</td>\n",
       "      <td>15</td>\n",
       "      <td>15</td>\n",
       "      <td>16280,83$</td>\n",
       "      <td>1972</td>\n",
       "      <td>195370,00$</td>\n",
       "      <td>NaN</td>\n",
       "      <td>NaN</td>\n",
       "      <td>Yes</td>\n",
       "    </tr>\n",
       "    <tr>\n",
       "      <th>1</th>\n",
       "      <td>52</td>\n",
       "      <td>No</td>\n",
       "      <td>NaN</td>\n",
       "      <td>2063.388889</td>\n",
       "      <td>NaN</td>\n",
       "      <td>1</td>\n",
       "      <td>4</td>\n",
       "      <td>Life Sciences</td>\n",
       "      <td>1</td>\n",
       "      <td>2</td>\n",
       "      <td>3</td>\n",
       "      <td>0</td>\n",
       "      <td>NaN</td>\n",
       "      <td>2</td>\n",
       "      <td>5</td>\n",
       "      <td>ManAGeR</td>\n",
       "      <td>3</td>\n",
       "      <td>NaN</td>\n",
       "      <td>NaN</td>\n",
       "      <td>43331,17$</td>\n",
       "      <td>0</td>\n",
       "      <td>NaN</td>\n",
       "      <td>NaN</td>\n",
       "      <td>14</td>\n",
       "      <td>3,0</td>\n",
       "      <td>1</td>\n",
       "      <td>NaN</td>\n",
       "      <td>1</td>\n",
       "      <td>34,0</td>\n",
       "      <td>5</td>\n",
       "      <td>3,0</td>\n",
       "      <td>33</td>\n",
       "      <td>NaN</td>\n",
       "      <td>11</td>\n",
       "      <td>9</td>\n",
       "      <td>NaN</td>\n",
       "      <td>1971</td>\n",
       "      <td>199990,00$</td>\n",
       "      <td>NaN</td>\n",
       "      <td>NaN</td>\n",
       "      <td>1</td>\n",
       "    </tr>\n",
       "    <tr>\n",
       "      <th>2</th>\n",
       "      <td>42</td>\n",
       "      <td>No</td>\n",
       "      <td>travel_rarely</td>\n",
       "      <td>1984.253968</td>\n",
       "      <td>Research &amp; Development</td>\n",
       "      <td>4</td>\n",
       "      <td>2</td>\n",
       "      <td>Technical Degree</td>\n",
       "      <td>1</td>\n",
       "      <td>3</td>\n",
       "      <td>3</td>\n",
       "      <td>0</td>\n",
       "      <td>NaN</td>\n",
       "      <td>3</td>\n",
       "      <td>5</td>\n",
       "      <td>ManaGER</td>\n",
       "      <td>4</td>\n",
       "      <td>Married</td>\n",
       "      <td>NaN</td>\n",
       "      <td>41669,33$</td>\n",
       "      <td>1</td>\n",
       "      <td>NaN</td>\n",
       "      <td>No</td>\n",
       "      <td>11</td>\n",
       "      <td>3,0</td>\n",
       "      <td>4</td>\n",
       "      <td>NaN</td>\n",
       "      <td>0</td>\n",
       "      <td>22,0</td>\n",
       "      <td>3</td>\n",
       "      <td>NaN</td>\n",
       "      <td>22</td>\n",
       "      <td>NaN</td>\n",
       "      <td>11</td>\n",
       "      <td>15</td>\n",
       "      <td>NaN</td>\n",
       "      <td>1981</td>\n",
       "      <td>192320,00$</td>\n",
       "      <td>ManaGER  -  Research &amp; Development</td>\n",
       "      <td>NaN</td>\n",
       "      <td>1</td>\n",
       "    </tr>\n",
       "    <tr>\n",
       "      <th>3</th>\n",
       "      <td>47</td>\n",
       "      <td>No</td>\n",
       "      <td>travel_rarely</td>\n",
       "      <td>1771.404762</td>\n",
       "      <td>NaN</td>\n",
       "      <td>2</td>\n",
       "      <td>4</td>\n",
       "      <td>Medical</td>\n",
       "      <td>1</td>\n",
       "      <td>4</td>\n",
       "      <td>1</td>\n",
       "      <td>1</td>\n",
       "      <td>NaN</td>\n",
       "      <td>3</td>\n",
       "      <td>4</td>\n",
       "      <td>ReseArCH DIrECtOr</td>\n",
       "      <td>3</td>\n",
       "      <td>Married</td>\n",
       "      <td>14307,50$</td>\n",
       "      <td>37199,50$</td>\n",
       "      <td>3</td>\n",
       "      <td>Y</td>\n",
       "      <td>NaN</td>\n",
       "      <td>19</td>\n",
       "      <td>3,0</td>\n",
       "      <td>2</td>\n",
       "      <td>Full Time</td>\n",
       "      <td>2</td>\n",
       "      <td>NaN</td>\n",
       "      <td>2</td>\n",
       "      <td>NaN</td>\n",
       "      <td>20</td>\n",
       "      <td>NaN</td>\n",
       "      <td>5</td>\n",
       "      <td>6</td>\n",
       "      <td>14307,50$</td>\n",
       "      <td>1976</td>\n",
       "      <td>171690,00$</td>\n",
       "      <td>NaN</td>\n",
       "      <td>NaN</td>\n",
       "      <td>False</td>\n",
       "    </tr>\n",
       "    <tr>\n",
       "      <th>4</th>\n",
       "      <td>46</td>\n",
       "      <td>No</td>\n",
       "      <td>NaN</td>\n",
       "      <td>1582.771346</td>\n",
       "      <td>NaN</td>\n",
       "      <td>3</td>\n",
       "      <td>3</td>\n",
       "      <td>Technical Degree</td>\n",
       "      <td>1</td>\n",
       "      <td>5</td>\n",
       "      <td>1</td>\n",
       "      <td>1</td>\n",
       "      <td>NaN</td>\n",
       "      <td>4</td>\n",
       "      <td>4</td>\n",
       "      <td>sAleS EXECUtIve</td>\n",
       "      <td>1</td>\n",
       "      <td>Divorced</td>\n",
       "      <td>12783,92$</td>\n",
       "      <td>33238,20$</td>\n",
       "      <td>2</td>\n",
       "      <td>Y</td>\n",
       "      <td>No</td>\n",
       "      <td>12</td>\n",
       "      <td>3,0</td>\n",
       "      <td>4</td>\n",
       "      <td>NaN</td>\n",
       "      <td>1</td>\n",
       "      <td>NaN</td>\n",
       "      <td>5</td>\n",
       "      <td>3,0</td>\n",
       "      <td>19</td>\n",
       "      <td>NaN</td>\n",
       "      <td>2</td>\n",
       "      <td>8</td>\n",
       "      <td>12783,92$</td>\n",
       "      <td>1977</td>\n",
       "      <td>NaN</td>\n",
       "      <td>NaN</td>\n",
       "      <td>NaN</td>\n",
       "      <td>0</td>\n",
       "    </tr>\n",
       "  </tbody>\n",
       "</table>\n",
       "</div>"
      ],
      "text/plain": [
       "  age attrition businesstravel    dailyrate                department  \\\n",
       "0  51        No            NaN  2015.722222                       NaN   \n",
       "1  52        No            NaN  2063.388889                       NaN   \n",
       "2  42        No  travel_rarely  1984.253968   Research & Development    \n",
       "3  47        No  travel_rarely  1771.404762                       NaN   \n",
       "4  46        No            NaN  1582.771346                       NaN   \n",
       "\n",
       "   distancefromhome  education    educationfield  employeecount  \\\n",
       "0                 6          3               NaN              1   \n",
       "1                 1          4     Life Sciences              1   \n",
       "2                 4          2  Technical Degree              1   \n",
       "3                 2          4           Medical              1   \n",
       "4                 3          3  Technical Degree              1   \n",
       "\n",
       "   employeenumber  environmentsatisfaction  gender  hourlyrate  \\\n",
       "0               1                        1       0         NaN   \n",
       "1               2                        3       0         NaN   \n",
       "2               3                        3       0         NaN   \n",
       "3               4                        1       1         NaN   \n",
       "4               5                        1       1         NaN   \n",
       "\n",
       "   jobinvolvement  joblevel              jobrole  jobsatisfaction  \\\n",
       "0               3         5   resEArch DIREcToR                 3   \n",
       "1               2         5             ManAGeR                 3   \n",
       "2               3         5             ManaGER                 4   \n",
       "3               3         4   ReseArCH DIrECtOr                 3   \n",
       "4               4         4     sAleS EXECUtIve                 1   \n",
       "\n",
       "  maritalstatus monthlyincome monthlyrate  numcompaniesworked over18 overtime  \\\n",
       "0           NaN     16280,83$   42330,17$                   7      Y       No   \n",
       "1           NaN           NaN   43331,17$                   0    NaN      NaN   \n",
       "2       Married           NaN   41669,33$                   1    NaN       No   \n",
       "3       Married     14307,50$   37199,50$                   3      Y      NaN   \n",
       "4      Divorced     12783,92$   33238,20$                   2      Y       No   \n",
       "\n",
       "   percentsalaryhike performancerating  relationshipsatisfaction  \\\n",
       "0                 13               3,0                         3   \n",
       "1                 14               3,0                         1   \n",
       "2                 11               3,0                         4   \n",
       "3                 19               3,0                         2   \n",
       "4                 12               3,0                         4   \n",
       "\n",
       "  standardhours  stockoptionlevel totalworkingyears  trainingtimeslastyear  \\\n",
       "0     Full Time                 0               NaN                      5   \n",
       "1           NaN                 1              34,0                      5   \n",
       "2           NaN                 0              22,0                      3   \n",
       "3     Full Time                 2               NaN                      2   \n",
       "4           NaN                 1               NaN                      5   \n",
       "\n",
       "  worklifebalance  yearsatcompany yearsincurrentrole  yearssincelastpromotion  \\\n",
       "0             3,0              20                NaN                       15   \n",
       "1             3,0              33                NaN                       11   \n",
       "2             NaN              22                NaN                       11   \n",
       "3             NaN              20                NaN                        5   \n",
       "4             3,0              19                NaN                        2   \n",
       "\n",
       "   yearswithcurrmanager sameasmonthlyincome  datebirth      salary  \\\n",
       "0                    15           16280,83$       1972  195370,00$   \n",
       "1                     9                 NaN       1971  199990,00$   \n",
       "2                    15                 NaN       1981  192320,00$   \n",
       "3                     6           14307,50$       1976  171690,00$   \n",
       "4                     8           12783,92$       1977         NaN   \n",
       "\n",
       "                        roledepartament  numberchildren remotework  \n",
       "0                                   NaN             NaN        Yes  \n",
       "1                                   NaN             NaN          1  \n",
       "2   ManaGER  -  Research & Development              NaN          1  \n",
       "3                                   NaN             NaN      False  \n",
       "4                                   NaN             NaN          0  "
      ]
     },
     "execution_count": 22,
     "metadata": {},
     "output_type": "execute_result"
    }
   ],
   "source": [
    "df = pd.read_csv('../datos/hr_raw_data_final.csv', index_col=0)\n",
    "\n",
    "df.head()"
   ]
  },
  {
   "cell_type": "code",
   "execution_count": null,
   "metadata": {},
   "outputs": [
    {
     "data": {
      "text/plain": [
       "(1678, 41)"
      ]
     },
     "execution_count": 4,
     "metadata": {},
     "output_type": "execute_result"
    }
   ],
   "source": [
    "# Columnas y filas\n",
    "df.shape"
   ]
  },
  {
   "cell_type": "code",
   "execution_count": null,
   "metadata": {},
   "outputs": [
    {
     "data": {
      "text/plain": [
       "68798"
      ]
     },
     "execution_count": 5,
     "metadata": {},
     "output_type": "execute_result"
    }
   ],
   "source": [
    "# Tamaño del Dataframe\n",
    "df.size"
   ]
  },
  {
   "cell_type": "code",
   "execution_count": null,
   "metadata": {},
   "outputs": [
    {
     "data": {
      "text/plain": [
       "Index(['age', 'attrition', 'businesstravel', 'dailyrate', 'department',\n",
       "       'distancefromhome', 'education', 'educationfield', 'employeecount',\n",
       "       'employeenumber', 'environmentsatisfaction', 'gender', 'hourlyrate',\n",
       "       'jobinvolvement', 'joblevel', 'jobrole', 'jobsatisfaction',\n",
       "       'maritalstatus', 'monthlyincome', 'monthlyrate', 'numcompaniesworked',\n",
       "       'over18', 'overtime', 'percentsalaryhike', 'performancerating',\n",
       "       'relationshipsatisfaction', 'standardhours', 'stockoptionlevel',\n",
       "       'totalworkingyears', 'trainingtimeslastyear', 'worklifebalance',\n",
       "       'yearsatcompany', 'yearsincurrentrole', 'yearssincelastpromotion',\n",
       "       'yearswithcurrmanager', 'sameasmonthlyincome', 'datebirth', 'salary',\n",
       "       'roledepartament', 'numberchildren', 'remotework'],\n",
       "      dtype='object')"
      ]
     },
     "execution_count": 6,
     "metadata": {},
     "output_type": "execute_result"
    }
   ],
   "source": [
    "# Todas las columnas\n",
    "df.columns"
   ]
  },
  {
   "cell_type": "code",
   "execution_count": null,
   "metadata": {},
   "outputs": [
    {
     "data": {
      "text/plain": [
       "age                          object\n",
       "attrition                    object\n",
       "businesstravel               object\n",
       "dailyrate                   float64\n",
       "department                   object\n",
       "distancefromhome              int64\n",
       "education                     int64\n",
       "educationfield               object\n",
       "employeecount                 int64\n",
       "employeenumber                int64\n",
       "environmentsatisfaction       int64\n",
       "gender                        int64\n",
       "hourlyrate                  float64\n",
       "jobinvolvement                int64\n",
       "joblevel                      int64\n",
       "jobrole                      object\n",
       "jobsatisfaction               int64\n",
       "maritalstatus                object\n",
       "monthlyincome                object\n",
       "monthlyrate                  object\n",
       "numcompaniesworked            int64\n",
       "over18                       object\n",
       "overtime                     object\n",
       "percentsalaryhike             int64\n",
       "performancerating            object\n",
       "relationshipsatisfaction      int64\n",
       "standardhours                object\n",
       "stockoptionlevel              int64\n",
       "totalworkingyears            object\n",
       "trainingtimeslastyear         int64\n",
       "worklifebalance              object\n",
       "yearsatcompany                int64\n",
       "yearsincurrentrole           object\n",
       "yearssincelastpromotion       int64\n",
       "yearswithcurrmanager          int64\n",
       "sameasmonthlyincome          object\n",
       "datebirth                     int64\n",
       "salary                       object\n",
       "roledepartament              object\n",
       "numberchildren              float64\n",
       "remotework                   object\n",
       "dtype: object"
      ]
     },
     "execution_count": 10,
     "metadata": {},
     "output_type": "execute_result"
    }
   ],
   "source": [
    "# Tipos de datos de cada columna\n",
    "\n",
    "df.dtypes"
   ]
  },
  {
   "cell_type": "code",
   "execution_count": 35,
   "metadata": {},
   "outputs": [
    {
     "data": {
      "text/plain": [
       "array([0, 1])"
      ]
     },
     "execution_count": 35,
     "metadata": {},
     "output_type": "execute_result"
    }
   ],
   "source": [
    "df['gender'].unique()"
   ]
  },
  {
   "cell_type": "code",
   "execution_count": 34,
   "metadata": {},
   "outputs": [
    {
     "data": {
      "text/plain": [
       "array([ 1,  3,  4,  2, 42, 37, 35, 25, 27, 31, 39, 21, 15, 14, 33, 19, 12,\n",
       "       13, 28, 47, 36, 29, 24, 46, 16, 22, 41, 49, 11, 48, 18, 10, 45, 38,\n",
       "       17, 20, 26, 43])"
      ]
     },
     "execution_count": 34,
     "metadata": {},
     "output_type": "execute_result"
    }
   ],
   "source": [
    "df['environmentsatisfaction'].unique()"
   ]
  },
  {
   "cell_type": "code",
   "execution_count": 33,
   "metadata": {},
   "outputs": [
    {
     "data": {
      "text/plain": [
       "array([   1,    2,    3, ..., 1612, 1613, 1614])"
      ]
     },
     "execution_count": 33,
     "metadata": {},
     "output_type": "execute_result"
    }
   ],
   "source": [
    "df['employeenumber'].unique()"
   ]
  },
  {
   "cell_type": "code",
   "execution_count": 32,
   "metadata": {},
   "outputs": [
    {
     "data": {
      "text/plain": [
       "array([1])"
      ]
     },
     "execution_count": 32,
     "metadata": {},
     "output_type": "execute_result"
    }
   ],
   "source": [
    "df['employeecount'].unique()"
   ]
  },
  {
   "cell_type": "code",
   "execution_count": 29,
   "metadata": {},
   "outputs": [
    {
     "data": {
      "text/plain": [
       "array([nan, 'Life Sciences', 'Technical Degree', 'Medical', 'Other',\n",
       "       'Marketing', 'Human Resources'], dtype=object)"
      ]
     },
     "execution_count": 29,
     "metadata": {},
     "output_type": "execute_result"
    }
   ],
   "source": [
    "df['educationfield'].unique()"
   ]
  },
  {
   "cell_type": "code",
   "execution_count": 30,
   "metadata": {},
   "outputs": [
    {
     "data": {
      "text/plain": [
       "age                            0\n",
       "attrition                      0\n",
       "businesstravel               801\n",
       "dailyrate                      0\n",
       "department                  1366\n",
       "distancefromhome               0\n",
       "education                      0\n",
       "educationfield               774\n",
       "employeecount                  0\n",
       "employeenumber                 0\n",
       "environmentsatisfaction        0\n",
       "gender                         0\n",
       "hourlyrate                  1267\n",
       "jobinvolvement                 0\n",
       "joblevel                       0\n",
       "jobrole                        0\n",
       "jobsatisfaction                0\n",
       "maritalstatus                675\n",
       "monthlyincome                489\n",
       "monthlyrate                    0\n",
       "numcompaniesworked             0\n",
       "over18                       938\n",
       "overtime                     696\n",
       "percentsalaryhike              0\n",
       "performancerating            200\n",
       "relationshipsatisfaction       0\n",
       "standardhours                351\n",
       "stockoptionlevel               0\n",
       "totalworkingyears            549\n",
       "trainingtimeslastyear          0\n",
       "worklifebalance              114\n",
       "yearsatcompany                 0\n",
       "yearsincurrentrole          1643\n",
       "yearssincelastpromotion        0\n",
       "yearswithcurrmanager           0\n",
       "sameasmonthlyincome          489\n",
       "datebirth                      0\n",
       "salary                       285\n",
       "roledepartament             1366\n",
       "numberchildren              1678\n",
       "remotework                     0\n",
       "dtype: int64"
      ]
     },
     "execution_count": 30,
     "metadata": {},
     "output_type": "execute_result"
    }
   ],
   "source": [
    "df.isna().sum()"
   ]
  },
  {
   "cell_type": "code",
   "execution_count": null,
   "metadata": {},
   "outputs": [
    {
     "data": {
      "text/plain": [
       "array(['51', '52', '42', '47', '46', '48', '59', '41', '56', '38', '55',\n",
       "       '40', '58', '35', '45', '33', '36', '34', 'forty-seven', '53',\n",
       "       '43', '60', '32', '37', '49', '39', '50', '44', '30',\n",
       "       'fifty-eight', '29', '31', '54', '57', '27', 'thirty-six', '28',\n",
       "       '26', 'fifty-five', '25', 'fifty-two', 'thirty-one', '24',\n",
       "       'thirty', '23', '22', '21', '20', 'twenty-six', '19',\n",
       "       'thirty-seven', '18', 'thirty-two', 'twenty-four'], dtype=object)"
      ]
     },
     "execution_count": 12,
     "metadata": {},
     "output_type": "execute_result"
    }
   ],
   "source": [
    "# Valores unicos de la columna 'AGE'\n",
    "\n",
    "df['age'].unique()"
   ]
  },
  {
   "cell_type": "code",
   "execution_count": null,
   "metadata": {},
   "outputs": [
    {
     "data": {
      "text/plain": [
       "array(['No', 'Yes'], dtype=object)"
      ]
     },
     "execution_count": 23,
     "metadata": {},
     "output_type": "execute_result"
    }
   ],
   "source": [
    "\n",
    "df['attrition'].unique()"
   ]
  },
  {
   "cell_type": "code",
   "execution_count": 24,
   "metadata": {},
   "outputs": [
    {
     "data": {
      "text/plain": [
       "array([nan, 'travel_rarely', 'travel_frequently', 'non-travel'],\n",
       "      dtype=object)"
      ]
     },
     "execution_count": 24,
     "metadata": {},
     "output_type": "execute_result"
    }
   ],
   "source": [
    "df['businesstravel'].unique()"
   ]
  },
  {
   "cell_type": "code",
   "execution_count": 31,
   "metadata": {},
   "outputs": [
    {
     "data": {
      "text/plain": [
       "array([2015.72222222, 2063.38888889, 1984.25396825, 1771.4047619 ,\n",
       "       1582.77134647, 1771.92063492, 1032.48728618,  556.256661  ,\n",
       "       1712.18253968, 1973.98412698, 2060.70634921, 1382.74603175,\n",
       "       1362.52380952, 2016.54761905, 1861.37301587, 1985.6984127 ,\n",
       "       1108.92063492, 1728.38095238,  639.78571429, 2047.5       ,\n",
       "        412.8015873 , 1077.86507937, 1657.3968254 ,  331.19047619,\n",
       "       1059.19047619, 1080.75396825,  635.76190476,  487.08730159,\n",
       "        290.03550974,  476.15079365, 1749.73809524, 1063.31746032,\n",
       "        557.76190476,  608.93650794, 1119.96031746,  610.17460317,\n",
       "        685.6984127 , 1441.65873016, 1374.28571429,  689.92857143,\n",
       "        488.53174603, 1431.23809524, 1964.96031746, 1652.34126984,\n",
       "        991.81746032, 1187.53968254,  444.26984127, 1758.71428571,\n",
       "        522.78571429,  380.92063492, 2047.70634921,  238.12698413,\n",
       "        592.94444444, 1075.28571429,  654.84920635,  242.25396825,\n",
       "        316.95238095, 1288.65079365,  827.46031746, 1760.98412698,\n",
       "        922.69047619, 1988.38095238,  575.4047619 ,  277.64285714,\n",
       "        763.8015873 ,  910.30952381,  369.26190476, 1834.34126984,\n",
       "       1879.11904762, 1400.8015873 , 1979.92063492, 1766.65873016,\n",
       "       1979.61111111, 1032.57142857,  824.15873016,  730.78571429,\n",
       "        487.29365079,  351.51587302,  302.1984127 , 1241.29365079,\n",
       "       1591.67460317,  528.87301587,  992.43650794,  516.9047619 ,\n",
       "       1963.72222222, 1073.01587302,  288.16666667,  585.41269841,\n",
       "       1980.64285714,  867.9047619 ,  345.42857143,  547.75396825,\n",
       "        789.6984127 , 1321.46031746,  679.50793651,  259.8968254 ,\n",
       "       1764.18253968, 1353.65079365,  323.03968254,  458.50793651,\n",
       "        688.58730159, 1016.47619048, 1842.8015873 ,  768.23809524,\n",
       "       1419.37301587, 1712.49206349,  442.1031746 , 1044.53968254,\n",
       "       1002.23809524, 1023.9047619 , 1160.1984127 ,  316.64285714,\n",
       "        953.43650794,  667.74603175,  315.1984127 ,  858.51587302,\n",
       "        324.27777778,  885.03174603,  433.02380952, 1020.19047619,\n",
       "       1376.45238095,  585.72222222,  300.13492063,  982.84126984,\n",
       "        704.16666667,  456.44444444,  561.37301587,  626.68253968,\n",
       "        634.11111111,  636.79365079,  481.61904762,  578.29365079,\n",
       "        445.61111111,  367.71428571,  645.97619048,  702.        ,\n",
       "       2005.3015873 ,  601.3015873 ,  253.29365079,  521.54761905,\n",
       "        483.06349206,  542.38888889,  218.62698413,  616.36507937,\n",
       "        313.03174603, 1363.14285714,  865.84126984,  417.96031746,\n",
       "        495.75396825,  282.8015873 ,  550.64285714,  973.34920635,\n",
       "        556.73015873, 1151.32539683,  511.74603175,  907.21428571,\n",
       "       1979.81746032,  228.63492063, 1208.48412698,  547.23809524,\n",
       "       1145.54761905,  684.25396825,  782.78571429,  447.26190476,\n",
       "        616.98412698,  437.87301587,  539.3968254 ,  278.57142857,\n",
       "        244.11111111,  240.29365079,  443.03174603,  693.84920635,\n",
       "       1065.27777778,  458.81746032, 1118.92857143,  564.57142857,\n",
       "        658.76984127,  776.38888889,  377.61904762,  901.74603175,\n",
       "       1392.75396825,  360.18253968,  538.57142857, 1057.74603175,\n",
       "       2036.66666667,  640.61111111,  731.92063492,  467.79365079,\n",
       "        876.98412698,  478.62698413,  553.32539683,  421.05555556,\n",
       "        369.15873016, 1787.80952381, 1113.56349206, 1119.54761905,\n",
       "       1079.82539683,  243.6984127 ,  664.34126984,  595.21428571,\n",
       "        452.42063492,  419.50793651,  537.12698413,  273.92857143,\n",
       "        265.15873016,  464.49206349,  512.57142857,  531.03968254,\n",
       "        280.42857143,  365.13492063,  564.15873016,  599.75396825,\n",
       "        997.38888889,  531.76190476,  585.51587302,  754.61904762,\n",
       "        525.98412698, 1400.07936508,  692.50793651, 1030.81746032,\n",
       "       1057.33333333, 1128.52380952,  267.53174603, 1225.50793651,\n",
       "        835.1984127 , 1739.11111111,  468.1031746 , 1849.3015873 ,\n",
       "        414.14285714, 1314.65079365,  348.31746032, 1081.47619048,\n",
       "        438.38888889,  675.69047619, 1486.84920635, 2020.77777778,\n",
       "        849.84920635,  331.29365079, 1723.42857143,  492.55555556,\n",
       "        471.3015873 ,  618.32539683,  670.53174603,  356.15873016,\n",
       "        660.00793651,  281.15079365,  373.6984127 ,  637.61904762,\n",
       "        647.31746032,  452.00793651,  264.02380952,  566.22222222,\n",
       "        259.38095238,  329.74603175,  352.85714286,  421.67460317,\n",
       "        553.84126984, 1334.66666667,  435.5       ,  512.05555556,\n",
       "        433.33333333,  516.49206349,  788.15079365,  670.84126984,\n",
       "       1395.43650794,  655.05555556,  658.25396825,  320.04761905,\n",
       "        470.06349206,  436.42857143,  501.32539683,  652.26984127,\n",
       "       1110.26190476,  306.73809524,  536.92063492, 1795.13492063,\n",
       "       1742.1031746 ,  446.02380952,  531.86507937,  302.92063492,\n",
       "       1938.54761905,  503.8015873 ,  209.34126984,  309.11111111,\n",
       "        957.25396825,  429.41269841,  913.4047619 ,  503.07936508,\n",
       "        220.8968254 ,  800.22222222,  406.0952381 ,  705.92063492,\n",
       "        411.56349206,  508.65079365,  381.95238095,  279.08730159,\n",
       "        458.92063492,  245.45238095,  566.11904762,  289.92063492,\n",
       "        922.17460317, 1025.14285714,  562.71428571, 1933.49206349,\n",
       "        564.67460317, 1393.16666667, 1397.91269841, 1874.88888889,\n",
       "        286.20634921,  973.86507937,  543.21428571,  393.61111111,\n",
       "        246.48412698,  412.6984127 , 1814.22222222,  584.07142857,\n",
       "        502.35714286,  479.65873016, 1082.92063492,  285.58730159,\n",
       "        351.61904762,  387.42063492,  225.64285714,  439.31746032,\n",
       "        549.50793651,  565.91269841,  287.03174603, 1819.8968254 ,\n",
       "        625.44444444,  648.76190476,  353.26984127,  432.71428571,\n",
       "        261.23809524,  584.58730159, 1416.17460317,  423.73809524,\n",
       "        371.11904762,  424.56349206,  647.11111111,  259.69047619,\n",
       "        402.79365079,  949.61904762,  451.18253968,  212.95238095,\n",
       "        250.71428571,  503.18253968,  387.93650794,  207.69047619,\n",
       "        306.84126984,  285.38095238,  348.42063492,  434.67460317,\n",
       "        671.97619048,  442.        ,  229.66666667,  573.75396825,\n",
       "        221.20634921,  554.35714286,  298.8968254 ,  548.99206349,\n",
       "        558.17460317,  500.3968254 ,  206.45238095,  454.38095238,\n",
       "        406.92063492,  305.3968254 , 1954.84920635,  667.02380952,\n",
       "        276.81746032,  207.79365079,  355.02380952, 1409.77777778,\n",
       "        518.03968254, 1944.22222222,  488.94444444, 1098.80952381,\n",
       "        445.4047619 ,  208.82539683,  315.50793651,  405.37301587,\n",
       "        456.54761905,  240.19047619,  274.13492063,  612.85714286,\n",
       "        270.52380952,  331.3968254 ,  300.34126984,  715.1031746 ,\n",
       "        224.50793651,  333.25396825, 1925.75396825,  287.75396825,\n",
       "        661.34920635,  509.78571429,  410.94444444,  299.61904762,\n",
       "        278.15873016,  224.3015873 ,  696.94444444, 1131.30952381,\n",
       "        262.37301587, 2002.20634921,  674.55555556,  232.96825397,\n",
       "        228.84126984,  273.82539683, 1231.38888889,  262.68253968,\n",
       "        401.76190476,  439.73015873, 1086.11904762,  247.61904762,\n",
       "        379.78571429,  355.64285714, 2013.24603175,  274.34126984,\n",
       "        912.78571429,  210.99206349,  500.5       ,  837.77777778,\n",
       "        472.23015873,  557.65873016,  382.57142857, 1420.71428571,\n",
       "        236.99206349,  252.77777778,  447.98412698,  265.36507937,\n",
       "        670.63492063,  324.8968254 ,  549.3015873 ,  452.11111111,\n",
       "        263.4047619 ,  612.13492063,  454.27777778, 1128.11111111,\n",
       "        208.61904762,  439.11111111,  369.36507937,  299.1031746 ,\n",
       "        573.85714286,  245.24603175,  248.03174603,  288.78571429,\n",
       "        290.02380952,  451.5952381 ,  437.46031746,  436.11904762,\n",
       "        404.13492063,  512.67460317,  210.68253968,  291.05555556,\n",
       "       1027.30952381,  227.70634921,  213.57142857,  287.96031746,\n",
       "        848.50793651,  269.28571429,  591.29365079,  261.96031746,\n",
       "        245.14285714, 1968.67460317,  283.00793651,  468.20634921,\n",
       "        398.97619048,  214.6031746 ,  216.25396825,  477.38888889,\n",
       "        237.50793651,  523.1984127 , 1093.23809524,  564.05555556,\n",
       "        247.        ,  374.42063492,  965.92063492,  333.15079365,\n",
       "       1694.33333333,  582.62698413,  453.96825397,  213.15873016,\n",
       "        566.01587302,  326.23809524,  686.21428571,  505.34920635,\n",
       "        328.0952381 , 1160.0952381 ,  419.81746032,  659.49206349,\n",
       "        500.91269841,  341.71428571,  321.5952381 , 1568.46031746,\n",
       "        266.19047619,  223.47619048,  451.28571429,  567.97619048,\n",
       "        266.91269841, 1647.9047619 ,  237.81746032,  354.1984127 ,\n",
       "        358.73809524,  403.1031746 ,  355.43650794,  284.76190476,\n",
       "        649.38095238, 1353.23809524,  370.5       ,  217.18253968,\n",
       "        402.58730159,  274.65079365,  212.74603175,  568.18253968,\n",
       "        836.02380952,  410.42857143,  557.03968254, 1077.96825397,\n",
       "        458.0952381 ,  274.44444444,  348.21428571,  234.1031746 ,\n",
       "        493.8968254 ,  289.81746032, 1119.85714286,  265.26190476,\n",
       "        633.6984127 ,  257.52380952,  352.75396825,  258.03968254,\n",
       "        264.74603175,  404.44444444, 1440.73015873,  674.76190476,\n",
       "        231.52380952, 1669.77777778,  436.73809524, 1528.42857143,\n",
       "       1770.37301587,  239.15873016,  373.18253968,  276.92063492,\n",
       "       1984.76984127,  456.23809524,  263.3015873 ,  276.3015873 ,\n",
       "        533.51587302, 1229.42857143,  967.77777778,  606.46031746,\n",
       "        254.63492063,  425.8015873 ,  221.61904762,  400.93650794,\n",
       "        687.86507937,  215.63492063,  215.22222222,  201.29365079,\n",
       "        311.79365079, 1003.26984127,  349.55555556,  313.44444444,\n",
       "        239.57142857,  301.88888889,  464.8015873 ,  292.5       ,\n",
       "        676.1031746 ,  688.48412698, 1402.24603175,  224.61111111,\n",
       "       2013.65873016, 1981.15873016, 1036.6984127 ,  280.94444444,\n",
       "        685.49206349,  326.13492063,  146.50793651,  123.80952381,\n",
       "        540.42857143, 1030.1984127 , 1649.96825397,  244.52380952,\n",
       "        699.62698413,  686.42063492,  294.15079365,  542.49206349,\n",
       "        255.46031746,  235.75396825,  355.74603175,  470.26984127,\n",
       "        175.6031746 ,  264.53968254,  523.0952381 ,  390.        ,\n",
       "       1013.58730159,  193.76190476,  241.42857143,  219.45238095,\n",
       "        209.75396825,  990.68253968, 1715.48412698,  214.91269841,\n",
       "        104.1031746 ,  811.05555556,  272.58730159,  528.35714286,\n",
       "        277.95238095,  525.57142857,  234.61904762,  238.74603175,\n",
       "        245.55555556,  207.17460317, 1088.6984127 ,  233.07142857,\n",
       "        248.96031746,  218.83333333,  255.76984127, 1361.28571429,\n",
       "        429.51587302,  268.25396825, 1888.4047619 ,  492.86507937,\n",
       "        108.53968254,  253.91269841,  267.84126984,  487.80952381,\n",
       "        758.43650794,  491.73015873,  291.67460317,  294.35714286,\n",
       "        236.26984127,  217.38888889,  228.01587302, 1360.97619048,\n",
       "       1884.48412698,  115.34920635,  244.73015873,  292.80952381,\n",
       "       1863.43650794,  166.21428571,  491.93650794,  131.44444444,\n",
       "        264.23015873,  161.26190476,  659.07936508,  864.19047619,\n",
       "        499.46825397,  213.98412698,  306.63492063,  703.13492063,\n",
       "        277.53968254, 1812.46825397,  161.88095238,  431.99206349,\n",
       "        341.0952381 ,  143.72222222, 1122.84920635,  295.28571429,\n",
       "        694.88095238, 1006.57142857,  546.20634921,  251.43650794,\n",
       "        420.02380952,  304.98412698,  479.55555556,  289.3015873 ,\n",
       "        251.64285714,  294.66666667,  302.61111111,  112.56349206,\n",
       "        531.45238095,  295.38888889,  294.87301587,  116.48412698,\n",
       "       2004.78571429])"
      ]
     },
     "execution_count": 31,
     "metadata": {},
     "output_type": "execute_result"
    }
   ],
   "source": [
    "df['dailyrate'].unique()"
   ]
  },
  {
   "cell_type": "code",
   "execution_count": 26,
   "metadata": {},
   "outputs": [
    {
     "data": {
      "text/plain": [
       "array([nan, ' Research & Development ', ' Sales ', ' Human Resources '],\n",
       "      dtype=object)"
      ]
     },
     "execution_count": 26,
     "metadata": {},
     "output_type": "execute_result"
    }
   ],
   "source": [
    "df['department'].unique()"
   ]
  },
  {
   "cell_type": "code",
   "execution_count": 27,
   "metadata": {},
   "outputs": [
    {
     "data": {
      "text/plain": [
       "array([  6,   1,   4,   2,   3,  22,  25,   9,   7,  23,  10,  12,  14,\n",
       "       -13,  15,   8, -42,  28, -37,   5,  16, -35,  26, -26,  24,  29,\n",
       "       -25,  17,  21, -18, -10, -30, -27,  20, -31, -29, -39,  18, -21,\n",
       "       -15,  11,  13, -14,  19, -33, -34, -46, -36, -19,  27, -12, -23,\n",
       "       -45, -28, -47, -32, -24, -16, -22, -41, -49, -11, -48, -38, -20,\n",
       "       -17, -43, -40, -44])"
      ]
     },
     "execution_count": 27,
     "metadata": {},
     "output_type": "execute_result"
    }
   ],
   "source": [
    "df['distancefromhome'].unique()"
   ]
  },
  {
   "cell_type": "code",
   "execution_count": 28,
   "metadata": {},
   "outputs": [
    {
     "data": {
      "text/plain": [
       "array([3, 4, 2, 1, 5])"
      ]
     },
     "execution_count": 28,
     "metadata": {},
     "output_type": "execute_result"
    }
   ],
   "source": [
    "df['education'].unique()"
   ]
  },
  {
   "cell_type": "code",
   "execution_count": null,
   "metadata": {},
   "outputs": [
    {
     "ename": "ValueError",
     "evalue": "invalid literal for int() with base 10: 'forty-seven'",
     "output_type": "error",
     "traceback": [
      "\u001b[0;31m---------------------------------------------------------------------------\u001b[0m",
      "\u001b[0;31mValueError\u001b[0m                                Traceback (most recent call last)",
      "Cell \u001b[0;32mIn[15], line 1\u001b[0m\n\u001b[0;32m----> 1\u001b[0m \u001b[43mdf\u001b[49m\u001b[43m[\u001b[49m\u001b[38;5;124;43m'\u001b[39;49m\u001b[38;5;124;43mage\u001b[39;49m\u001b[38;5;124;43m'\u001b[39;49m\u001b[43m]\u001b[49m\u001b[38;5;241;43m.\u001b[39;49m\u001b[43mastype\u001b[49m\u001b[43m(\u001b[49m\u001b[38;5;28;43mint\u001b[39;49m\u001b[43m)\u001b[49m\n",
      "File \u001b[0;32m~/.local/lib/python3.12/site-packages/pandas/core/generic.py:6643\u001b[0m, in \u001b[0;36mNDFrame.astype\u001b[0;34m(self, dtype, copy, errors)\u001b[0m\n\u001b[1;32m   6637\u001b[0m     results \u001b[38;5;241m=\u001b[39m [\n\u001b[1;32m   6638\u001b[0m         ser\u001b[38;5;241m.\u001b[39mastype(dtype, copy\u001b[38;5;241m=\u001b[39mcopy, errors\u001b[38;5;241m=\u001b[39merrors) \u001b[38;5;28;01mfor\u001b[39;00m _, ser \u001b[38;5;129;01min\u001b[39;00m \u001b[38;5;28mself\u001b[39m\u001b[38;5;241m.\u001b[39mitems()\n\u001b[1;32m   6639\u001b[0m     ]\n\u001b[1;32m   6641\u001b[0m \u001b[38;5;28;01melse\u001b[39;00m:\n\u001b[1;32m   6642\u001b[0m     \u001b[38;5;66;03m# else, only a single dtype is given\u001b[39;00m\n\u001b[0;32m-> 6643\u001b[0m     new_data \u001b[38;5;241m=\u001b[39m \u001b[38;5;28;43mself\u001b[39;49m\u001b[38;5;241;43m.\u001b[39;49m\u001b[43m_mgr\u001b[49m\u001b[38;5;241;43m.\u001b[39;49m\u001b[43mastype\u001b[49m\u001b[43m(\u001b[49m\u001b[43mdtype\u001b[49m\u001b[38;5;241;43m=\u001b[39;49m\u001b[43mdtype\u001b[49m\u001b[43m,\u001b[49m\u001b[43m \u001b[49m\u001b[43mcopy\u001b[49m\u001b[38;5;241;43m=\u001b[39;49m\u001b[43mcopy\u001b[49m\u001b[43m,\u001b[49m\u001b[43m \u001b[49m\u001b[43merrors\u001b[49m\u001b[38;5;241;43m=\u001b[39;49m\u001b[43merrors\u001b[49m\u001b[43m)\u001b[49m\n\u001b[1;32m   6644\u001b[0m     res \u001b[38;5;241m=\u001b[39m \u001b[38;5;28mself\u001b[39m\u001b[38;5;241m.\u001b[39m_constructor_from_mgr(new_data, axes\u001b[38;5;241m=\u001b[39mnew_data\u001b[38;5;241m.\u001b[39maxes)\n\u001b[1;32m   6645\u001b[0m     \u001b[38;5;28;01mreturn\u001b[39;00m res\u001b[38;5;241m.\u001b[39m__finalize__(\u001b[38;5;28mself\u001b[39m, method\u001b[38;5;241m=\u001b[39m\u001b[38;5;124m\"\u001b[39m\u001b[38;5;124mastype\u001b[39m\u001b[38;5;124m\"\u001b[39m)\n",
      "File \u001b[0;32m~/.local/lib/python3.12/site-packages/pandas/core/internals/managers.py:430\u001b[0m, in \u001b[0;36mBaseBlockManager.astype\u001b[0;34m(self, dtype, copy, errors)\u001b[0m\n\u001b[1;32m    427\u001b[0m \u001b[38;5;28;01melif\u001b[39;00m using_copy_on_write():\n\u001b[1;32m    428\u001b[0m     copy \u001b[38;5;241m=\u001b[39m \u001b[38;5;28;01mFalse\u001b[39;00m\n\u001b[0;32m--> 430\u001b[0m \u001b[38;5;28;01mreturn\u001b[39;00m \u001b[38;5;28;43mself\u001b[39;49m\u001b[38;5;241;43m.\u001b[39;49m\u001b[43mapply\u001b[49m\u001b[43m(\u001b[49m\n\u001b[1;32m    431\u001b[0m \u001b[43m    \u001b[49m\u001b[38;5;124;43m\"\u001b[39;49m\u001b[38;5;124;43mastype\u001b[39;49m\u001b[38;5;124;43m\"\u001b[39;49m\u001b[43m,\u001b[49m\n\u001b[1;32m    432\u001b[0m \u001b[43m    \u001b[49m\u001b[43mdtype\u001b[49m\u001b[38;5;241;43m=\u001b[39;49m\u001b[43mdtype\u001b[49m\u001b[43m,\u001b[49m\n\u001b[1;32m    433\u001b[0m \u001b[43m    \u001b[49m\u001b[43mcopy\u001b[49m\u001b[38;5;241;43m=\u001b[39;49m\u001b[43mcopy\u001b[49m\u001b[43m,\u001b[49m\n\u001b[1;32m    434\u001b[0m \u001b[43m    \u001b[49m\u001b[43merrors\u001b[49m\u001b[38;5;241;43m=\u001b[39;49m\u001b[43merrors\u001b[49m\u001b[43m,\u001b[49m\n\u001b[1;32m    435\u001b[0m \u001b[43m    \u001b[49m\u001b[43musing_cow\u001b[49m\u001b[38;5;241;43m=\u001b[39;49m\u001b[43musing_copy_on_write\u001b[49m\u001b[43m(\u001b[49m\u001b[43m)\u001b[49m\u001b[43m,\u001b[49m\n\u001b[1;32m    436\u001b[0m \u001b[43m\u001b[49m\u001b[43m)\u001b[49m\n",
      "File \u001b[0;32m~/.local/lib/python3.12/site-packages/pandas/core/internals/managers.py:363\u001b[0m, in \u001b[0;36mBaseBlockManager.apply\u001b[0;34m(self, f, align_keys, **kwargs)\u001b[0m\n\u001b[1;32m    361\u001b[0m         applied \u001b[38;5;241m=\u001b[39m b\u001b[38;5;241m.\u001b[39mapply(f, \u001b[38;5;241m*\u001b[39m\u001b[38;5;241m*\u001b[39mkwargs)\n\u001b[1;32m    362\u001b[0m     \u001b[38;5;28;01melse\u001b[39;00m:\n\u001b[0;32m--> 363\u001b[0m         applied \u001b[38;5;241m=\u001b[39m \u001b[38;5;28;43mgetattr\u001b[39;49m\u001b[43m(\u001b[49m\u001b[43mb\u001b[49m\u001b[43m,\u001b[49m\u001b[43m \u001b[49m\u001b[43mf\u001b[49m\u001b[43m)\u001b[49m\u001b[43m(\u001b[49m\u001b[38;5;241;43m*\u001b[39;49m\u001b[38;5;241;43m*\u001b[39;49m\u001b[43mkwargs\u001b[49m\u001b[43m)\u001b[49m\n\u001b[1;32m    364\u001b[0m     result_blocks \u001b[38;5;241m=\u001b[39m extend_blocks(applied, result_blocks)\n\u001b[1;32m    366\u001b[0m out \u001b[38;5;241m=\u001b[39m \u001b[38;5;28mtype\u001b[39m(\u001b[38;5;28mself\u001b[39m)\u001b[38;5;241m.\u001b[39mfrom_blocks(result_blocks, \u001b[38;5;28mself\u001b[39m\u001b[38;5;241m.\u001b[39maxes)\n",
      "File \u001b[0;32m~/.local/lib/python3.12/site-packages/pandas/core/internals/blocks.py:758\u001b[0m, in \u001b[0;36mBlock.astype\u001b[0;34m(self, dtype, copy, errors, using_cow, squeeze)\u001b[0m\n\u001b[1;32m    755\u001b[0m         \u001b[38;5;28;01mraise\u001b[39;00m \u001b[38;5;167;01mValueError\u001b[39;00m(\u001b[38;5;124m\"\u001b[39m\u001b[38;5;124mCan not squeeze with more than one column.\u001b[39m\u001b[38;5;124m\"\u001b[39m)\n\u001b[1;32m    756\u001b[0m     values \u001b[38;5;241m=\u001b[39m values[\u001b[38;5;241m0\u001b[39m, :]  \u001b[38;5;66;03m# type: ignore[call-overload]\u001b[39;00m\n\u001b[0;32m--> 758\u001b[0m new_values \u001b[38;5;241m=\u001b[39m \u001b[43mastype_array_safe\u001b[49m\u001b[43m(\u001b[49m\u001b[43mvalues\u001b[49m\u001b[43m,\u001b[49m\u001b[43m \u001b[49m\u001b[43mdtype\u001b[49m\u001b[43m,\u001b[49m\u001b[43m \u001b[49m\u001b[43mcopy\u001b[49m\u001b[38;5;241;43m=\u001b[39;49m\u001b[43mcopy\u001b[49m\u001b[43m,\u001b[49m\u001b[43m \u001b[49m\u001b[43merrors\u001b[49m\u001b[38;5;241;43m=\u001b[39;49m\u001b[43merrors\u001b[49m\u001b[43m)\u001b[49m\n\u001b[1;32m    760\u001b[0m new_values \u001b[38;5;241m=\u001b[39m maybe_coerce_values(new_values)\n\u001b[1;32m    762\u001b[0m refs \u001b[38;5;241m=\u001b[39m \u001b[38;5;28;01mNone\u001b[39;00m\n",
      "File \u001b[0;32m~/.local/lib/python3.12/site-packages/pandas/core/dtypes/astype.py:237\u001b[0m, in \u001b[0;36mastype_array_safe\u001b[0;34m(values, dtype, copy, errors)\u001b[0m\n\u001b[1;32m    234\u001b[0m     dtype \u001b[38;5;241m=\u001b[39m dtype\u001b[38;5;241m.\u001b[39mnumpy_dtype\n\u001b[1;32m    236\u001b[0m \u001b[38;5;28;01mtry\u001b[39;00m:\n\u001b[0;32m--> 237\u001b[0m     new_values \u001b[38;5;241m=\u001b[39m \u001b[43mastype_array\u001b[49m\u001b[43m(\u001b[49m\u001b[43mvalues\u001b[49m\u001b[43m,\u001b[49m\u001b[43m \u001b[49m\u001b[43mdtype\u001b[49m\u001b[43m,\u001b[49m\u001b[43m \u001b[49m\u001b[43mcopy\u001b[49m\u001b[38;5;241;43m=\u001b[39;49m\u001b[43mcopy\u001b[49m\u001b[43m)\u001b[49m\n\u001b[1;32m    238\u001b[0m \u001b[38;5;28;01mexcept\u001b[39;00m (\u001b[38;5;167;01mValueError\u001b[39;00m, \u001b[38;5;167;01mTypeError\u001b[39;00m):\n\u001b[1;32m    239\u001b[0m     \u001b[38;5;66;03m# e.g. _astype_nansafe can fail on object-dtype of strings\u001b[39;00m\n\u001b[1;32m    240\u001b[0m     \u001b[38;5;66;03m#  trying to convert to float\u001b[39;00m\n\u001b[1;32m    241\u001b[0m     \u001b[38;5;28;01mif\u001b[39;00m errors \u001b[38;5;241m==\u001b[39m \u001b[38;5;124m\"\u001b[39m\u001b[38;5;124mignore\u001b[39m\u001b[38;5;124m\"\u001b[39m:\n",
      "File \u001b[0;32m~/.local/lib/python3.12/site-packages/pandas/core/dtypes/astype.py:182\u001b[0m, in \u001b[0;36mastype_array\u001b[0;34m(values, dtype, copy)\u001b[0m\n\u001b[1;32m    179\u001b[0m     values \u001b[38;5;241m=\u001b[39m values\u001b[38;5;241m.\u001b[39mastype(dtype, copy\u001b[38;5;241m=\u001b[39mcopy)\n\u001b[1;32m    181\u001b[0m \u001b[38;5;28;01melse\u001b[39;00m:\n\u001b[0;32m--> 182\u001b[0m     values \u001b[38;5;241m=\u001b[39m \u001b[43m_astype_nansafe\u001b[49m\u001b[43m(\u001b[49m\u001b[43mvalues\u001b[49m\u001b[43m,\u001b[49m\u001b[43m \u001b[49m\u001b[43mdtype\u001b[49m\u001b[43m,\u001b[49m\u001b[43m \u001b[49m\u001b[43mcopy\u001b[49m\u001b[38;5;241;43m=\u001b[39;49m\u001b[43mcopy\u001b[49m\u001b[43m)\u001b[49m\n\u001b[1;32m    184\u001b[0m \u001b[38;5;66;03m# in pandas we don't store numpy str dtypes, so convert to object\u001b[39;00m\n\u001b[1;32m    185\u001b[0m \u001b[38;5;28;01mif\u001b[39;00m \u001b[38;5;28misinstance\u001b[39m(dtype, np\u001b[38;5;241m.\u001b[39mdtype) \u001b[38;5;129;01mand\u001b[39;00m \u001b[38;5;28missubclass\u001b[39m(values\u001b[38;5;241m.\u001b[39mdtype\u001b[38;5;241m.\u001b[39mtype, \u001b[38;5;28mstr\u001b[39m):\n",
      "File \u001b[0;32m~/.local/lib/python3.12/site-packages/pandas/core/dtypes/astype.py:133\u001b[0m, in \u001b[0;36m_astype_nansafe\u001b[0;34m(arr, dtype, copy, skipna)\u001b[0m\n\u001b[1;32m    129\u001b[0m     \u001b[38;5;28;01mraise\u001b[39;00m \u001b[38;5;167;01mValueError\u001b[39;00m(msg)\n\u001b[1;32m    131\u001b[0m \u001b[38;5;28;01mif\u001b[39;00m copy \u001b[38;5;129;01mor\u001b[39;00m arr\u001b[38;5;241m.\u001b[39mdtype \u001b[38;5;241m==\u001b[39m \u001b[38;5;28mobject\u001b[39m \u001b[38;5;129;01mor\u001b[39;00m dtype \u001b[38;5;241m==\u001b[39m \u001b[38;5;28mobject\u001b[39m:\n\u001b[1;32m    132\u001b[0m     \u001b[38;5;66;03m# Explicit copy, or required since NumPy can't view from / to object.\u001b[39;00m\n\u001b[0;32m--> 133\u001b[0m     \u001b[38;5;28;01mreturn\u001b[39;00m \u001b[43marr\u001b[49m\u001b[38;5;241;43m.\u001b[39;49m\u001b[43mastype\u001b[49m\u001b[43m(\u001b[49m\u001b[43mdtype\u001b[49m\u001b[43m,\u001b[49m\u001b[43m \u001b[49m\u001b[43mcopy\u001b[49m\u001b[38;5;241;43m=\u001b[39;49m\u001b[38;5;28;43;01mTrue\u001b[39;49;00m\u001b[43m)\u001b[49m\n\u001b[1;32m    135\u001b[0m \u001b[38;5;28;01mreturn\u001b[39;00m arr\u001b[38;5;241m.\u001b[39mastype(dtype, copy\u001b[38;5;241m=\u001b[39mcopy)\n",
      "\u001b[0;31mValueError\u001b[0m: invalid literal for int() with base 10: 'forty-seven'"
     ]
    }
   ],
   "source": [
    "# Metodo para cambiar el tipo de una columna\n",
    "\n",
    "# df['age'].astype(int)"
   ]
  }
 ],
 "metadata": {
  "kernelspec": {
   "display_name": "base",
   "language": "python",
   "name": "python3"
  },
  "language_info": {
   "codemirror_mode": {
    "name": "ipython",
    "version": 3
   },
   "file_extension": ".py",
   "mimetype": "text/x-python",
   "name": "python",
   "nbconvert_exporter": "python",
   "pygments_lexer": "ipython3",
   "version": "3.12.4"
  }
 },
 "nbformat": 4,
 "nbformat_minor": 2
}
